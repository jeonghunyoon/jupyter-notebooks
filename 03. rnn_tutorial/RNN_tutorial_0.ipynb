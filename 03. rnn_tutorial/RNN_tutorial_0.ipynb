{
 "cells": [
  {
   "cell_type": "markdown",
   "metadata": {},
   "source": [
    "# ** RNN **"
   ]
  },
  {
   "cell_type": "markdown",
   "metadata": {},
   "source": [
    "일반적인 딥러닝 모델로는 대응하기 어려운 시계열 데이터를 다루는 데 사용하는 모델을 **순환 신경망(Recurrent Neural Network)**라고 한다. 순환 신경망은 규칙성이나 패턴이 있는  <U>시계열 데이터</U>를 학습하여, 미지의 새로운 시계열 데이터가 주어졌을 때 그 데이터의 미래 상태를 예측할 수 있다."
   ]
  },
  {
   "cell_type": "markdown",
   "metadata": {},
   "source": [
    "## ** Tutorial 0 : What is the RNN?**\n",
    "#### ** RNN 사용법을 간단히 익혀보자. **"
   ]
  },
  {
   "cell_type": "code",
   "execution_count": 1,
   "metadata": {},
   "outputs": [],
   "source": [
    "import numpy as np\n",
    "import tensorflow as tf\n",
    "import matplotlib.pyplot as plt\n",
    "\n",
    "from tensorflow.python.framework import ops\n",
    "\n",
    "from sklearn.preprocessing import OneHotEncoder, LabelEncoder\n",
    "from sklearn.model_selection import train_test_split\n",
    "from sklearn.utils import shuffle\n",
    "\n",
    "from IPython.display import Image"
   ]
  },
  {
   "cell_type": "code",
   "execution_count": 2,
   "metadata": {},
   "outputs": [],
   "source": [
    "# H -> E -> L -> L -> O\n",
    "data = ['H', 'E', 'L', 'L', 'O']\n",
    "\n",
    "label_encoder = LabelEncoder()\n",
    "onehot_encoder = OneHotEncoder()\n",
    "\n",
    "# 1. String -> int label\n",
    "labels = label_encoder.fit_transform(data)\n",
    "# 2. Reshape input for onehot encoder\n",
    "labels = labels.reshape(len(labels), 1)\n",
    "# 3. Int label-> one hot vector\n",
    "onehot_vec = onehot_encoder.fit_transform(labels)\n",
    "# 4. Print and check the result.\n",
    "inputs = onehot_vec.toarray()"
   ]
  },
  {
   "cell_type": "code",
   "execution_count": 3,
   "metadata": {},
   "outputs": [],
   "source": [
    "hidden_size = 2\n",
    "batch_size = 1"
   ]
  },
  {
   "cell_type": "code",
   "execution_count": 4,
   "metadata": {},
   "outputs": [],
   "source": [
    "# Input data Shape : (Data size, 5, 4)\n",
    "# 5 means the number of time series. (H -> E -> L -> L -> O)\n",
    "# 4 means the dimension of the time data. (H : [1, 0, 0, 0], E : [0, 1, 0, 0], ...)\n",
    "x = np.array(inputs.reshape(1, 5, 4), dtype=np.float32)"
   ]
  },
  {
   "cell_type": "code",
   "execution_count": 5,
   "metadata": {},
   "outputs": [],
   "source": [
    "# Define the BasicRNNCell\n",
    "rnn_cell = tf.contrib.rnn.BasicRNNCell(hidden_size)\n",
    "initial_state = rnn_cell.zero_state(batch_size, dtype=tf.float32)\n",
    "# Dynamic_rnn\n",
    "outputs, state = tf.nn.dynamic_rnn(rnn_cell, x, initial_state=initial_state, dtype=tf.float32)"
   ]
  },
  {
   "cell_type": "code",
   "execution_count": 6,
   "metadata": {},
   "outputs": [],
   "source": [
    "sess = tf.InteractiveSession()"
   ]
  },
  {
   "cell_type": "code",
   "execution_count": 7,
   "metadata": {},
   "outputs": [],
   "source": [
    "sess.run(tf.global_variables_initializer())"
   ]
  },
  {
   "cell_type": "code",
   "execution_count": 8,
   "metadata": {},
   "outputs": [
    {
     "name": "stdout",
     "output_type": "stream",
     "text": [
      "(1, 5, 2)\n",
      "[[[-0.05091725 -0.14921738]\n",
      "  [-0.6142292  -0.18411921]\n",
      "  [ 0.29054296 -0.01310057]\n",
      "  [ 0.5645038   0.38256508]\n",
      "  [ 0.32585782 -0.19290096]]]\n",
      "[[ 0.32585782 -0.19290096]]\n"
     ]
    }
   ],
   "source": [
    "result = outputs.eval()\n",
    "\n",
    "print(result.shape)\n",
    "\n",
    "# Output\n",
    "print(result)\n",
    "\n",
    "# 마지막 output\n",
    "print(result[:, -1, :])"
   ]
  },
  {
   "cell_type": "markdown",
   "metadata": {},
   "source": [
    "> Result를 해석해보자.\n",
    " - 5의 의미 : 1 time series를 구성하는 time state data의 갯수(H,E,L,L,O). 이것은 Time series를 구성하는 hidden cell의 output 갯수와도 동일\n",
    " - 2의 의미 : Hidden cell output의 차원수를 의미"
   ]
  },
  {
   "cell_type": "markdown",
   "metadata": {},
   "source": [
    "<img src=\"image/RNN2.png\" width=\"800\" height=\"700\">"
   ]
  },
  {
   "cell_type": "markdown",
   "metadata": {},
   "source": [
    "#### ** Dynamic_rnn 을 사용하지 않고, BasicRNNCell만 사용할 경우는 각 시간에 대한 state와 cell output을 구하는 코드를 작성해야 한다. **"
   ]
  },
  {
   "cell_type": "code",
   "execution_count": 9,
   "metadata": {},
   "outputs": [],
   "source": [
    "# Rnn_cell의 input으로는 tensor가 사용된다.\n",
    "tf_x = ops.convert_to_tensor(x)\n",
    "\n",
    "cell_outputs = []\n",
    "states = []\n",
    "\n",
    "state = initial_state\n",
    "for i in range(5):\n",
    "    cell_output, state = rnn_cell(tf_x[:, i, :], state)\n",
    "    cell_outputs.append(cell_output)\n",
    "    states.append(state)"
   ]
  },
  {
   "cell_type": "code",
   "execution_count": 10,
   "metadata": {},
   "outputs": [
    {
     "data": {
      "text/plain": [
       "array([[ 0.32585782, -0.19290096]], dtype=float32)"
      ]
     },
     "execution_count": 10,
     "metadata": {},
     "output_type": "execute_result"
    }
   ],
   "source": [
    "# Dynamic_rnn의 마지막 output과 동일함을 알 수 있다.\n",
    "cell_outputs[-1].eval(session=sess)"
   ]
  },
  {
   "cell_type": "code",
   "execution_count": 11,
   "metadata": {},
   "outputs": [
    {
     "data": {
      "text/plain": [
       "array([[ 0.32585782, -0.19290096]], dtype=float32)"
      ]
     },
     "execution_count": 11,
     "metadata": {},
     "output_type": "execute_result"
    }
   ],
   "source": [
    "states[-1].eval(session=sess)"
   ]
  }
 ],
 "metadata": {
  "kernelspec": {
   "display_name": "Python 3",
   "language": "python",
   "name": "python3"
  },
  "language_info": {
   "codemirror_mode": {
    "name": "ipython",
    "version": 3
   },
   "file_extension": ".py",
   "mimetype": "text/x-python",
   "name": "python",
   "nbconvert_exporter": "python",
   "pygments_lexer": "ipython3",
   "version": "3.6.3"
  }
 },
 "nbformat": 4,
 "nbformat_minor": 2
}
