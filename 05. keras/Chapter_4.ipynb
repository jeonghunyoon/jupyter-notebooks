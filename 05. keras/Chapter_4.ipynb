{
 "cells": [
  {
   "cell_type": "code",
   "execution_count": 14,
   "metadata": {},
   "outputs": [],
   "source": [
    "from keras.datasets import imdb\n",
    "from keras.models import Sequential\n",
    "from keras.layers import Dense, Input, Dropout\n",
    "from keras.utils import to_categorical\n",
    "from keras.optimizers import RMSprop\n",
    "from keras import regularizers\n",
    "\n",
    "import numpy as np"
   ]
  },
  {
   "cell_type": "code",
   "execution_count": 2,
   "metadata": {},
   "outputs": [],
   "source": [
    "(train_data, train_labels), (test_data, test_labels) = imdb.load_data(num_words=10000)"
   ]
  },
  {
   "cell_type": "code",
   "execution_count": 3,
   "metadata": {},
   "outputs": [],
   "source": [
    "def vectorize_sequences(sequences, dimensions=10000):\n",
    "    results = np.zeros((len(sequences), dimensions))\n",
    "    for i, sequence in enumerate(sequences):\n",
    "        results[i, sequence] = 1\n",
    "    return results"
   ]
  },
  {
   "cell_type": "code",
   "execution_count": 4,
   "metadata": {},
   "outputs": [],
   "source": [
    "x_train = vectorize_sequences(train_data)\n",
    "x_test = vectorize_sequences(test_data)"
   ]
  },
  {
   "cell_type": "code",
   "execution_count": 5,
   "metadata": {},
   "outputs": [],
   "source": [
    "y_train = train_labels.astype('float32')\n",
    "y_test = test_labels.astype('float32')"
   ]
  },
  {
   "cell_type": "code",
   "execution_count": 6,
   "metadata": {},
   "outputs": [],
   "source": [
    "model = Sequential()"
   ]
  },
  {
   "cell_type": "code",
   "execution_count": 7,
   "metadata": {},
   "outputs": [],
   "source": [
    "model.add(Dense(16, activation='relu', input_shape=(10000,)))\n",
    "model.add(Dense(16, activation='relu'))\n",
    "model.add(Dense(1, activation='sigmoid'))"
   ]
  },
  {
   "cell_type": "code",
   "execution_count": 8,
   "metadata": {},
   "outputs": [],
   "source": [
    "x_val = x_train[:1000]\n",
    "partial_x_train = x_train[1000:]\n",
    "y_val = y_train[:1000]\n",
    "partial_y_train = y_train[1000:]"
   ]
  },
  {
   "cell_type": "code",
   "execution_count": 9,
   "metadata": {},
   "outputs": [],
   "source": [
    "model.compile(\n",
    "    optimizer=RMSprop(lr=0.0001), \n",
    "    loss='binary_crossentropy', \n",
    "    metrics=['accuracy'])"
   ]
  },
  {
   "cell_type": "code",
   "execution_count": 10,
   "metadata": {},
   "outputs": [
    {
     "data": {
      "text/plain": [
       "(24000, 10000)"
      ]
     },
     "execution_count": 10,
     "metadata": {},
     "output_type": "execute_result"
    }
   ],
   "source": [
    "partial_x_train.shape"
   ]
  },
  {
   "cell_type": "code",
   "execution_count": 11,
   "metadata": {},
   "outputs": [
    {
     "name": "stdout",
     "output_type": "stream",
     "text": [
      "Train on 24000 samples, validate on 1000 samples\n",
      "Epoch 1/50\n",
      "24000/24000 [==============================] - 2s 79us/step - loss: 0.6723 - acc: 0.6239 - val_loss: 0.6389 - val_acc: 0.7670\n",
      "Epoch 2/50\n",
      "24000/24000 [==============================] - 1s 58us/step - loss: 0.6072 - acc: 0.7838 - val_loss: 0.5752 - val_acc: 0.8330\n",
      "Epoch 3/50\n",
      "24000/24000 [==============================] - ETA: 0s - loss: 0.5436 - acc: 0.838 - 1s 57us/step - loss: 0.5421 - acc: 0.8391 - val_loss: 0.5156 - val_acc: 0.8410\n",
      "Epoch 4/50\n",
      "24000/24000 [==============================] - 1s 57us/step - loss: 0.4824 - acc: 0.8619 - val_loss: 0.4645 - val_acc: 0.8510\n",
      "Epoch 5/50\n",
      "24000/24000 [==============================] - 1s 57us/step - loss: 0.4314 - acc: 0.8765 - val_loss: 0.4212 - val_acc: 0.8560\n",
      "Epoch 6/50\n",
      "24000/24000 [==============================] - 1s 56us/step - loss: 0.3889 - acc: 0.8868 - val_loss: 0.3862 - val_acc: 0.8610\n",
      "Epoch 7/50\n",
      "24000/24000 [==============================] - 1s 59us/step - loss: 0.3542 - acc: 0.8935 - val_loss: 0.3587 - val_acc: 0.8670\n",
      "Epoch 8/50\n",
      "24000/24000 [==============================] - 1s 56us/step - loss: 0.3252 - acc: 0.9003 - val_loss: 0.3363 - val_acc: 0.8700\n",
      "Epoch 9/50\n",
      "24000/24000 [==============================] - 1s 56us/step - loss: 0.3010 - acc: 0.9063 - val_loss: 0.3181 - val_acc: 0.8740\n",
      "Epoch 10/50\n",
      "24000/24000 [==============================] - 1s 56us/step - loss: 0.2804 - acc: 0.9114 - val_loss: 0.3037 - val_acc: 0.8730\n",
      "Epoch 11/50\n",
      "24000/24000 [==============================] - 1s 56us/step - loss: 0.2632 - acc: 0.9155 - val_loss: 0.2921 - val_acc: 0.8770\n",
      "Epoch 12/50\n",
      "24000/24000 [==============================] - 1s 55us/step - loss: 0.2481 - acc: 0.9198 - val_loss: 0.2818 - val_acc: 0.8810\n",
      "Epoch 13/50\n",
      "24000/24000 [==============================] - 1s 59us/step - loss: 0.2351 - acc: 0.9228 - val_loss: 0.2740 - val_acc: 0.8880\n",
      "Epoch 14/50\n",
      "24000/24000 [==============================] - 1s 59us/step - loss: 0.2236 - acc: 0.9262 - val_loss: 0.2679 - val_acc: 0.8850\n",
      "Epoch 15/50\n",
      "24000/24000 [==============================] - 1s 56us/step - loss: 0.2132 - acc: 0.9297 - val_loss: 0.2631 - val_acc: 0.8870\n",
      "Epoch 16/50\n",
      "24000/24000 [==============================] - 1s 54us/step - loss: 0.2040 - acc: 0.9328 - val_loss: 0.2588 - val_acc: 0.8870\n",
      "Epoch 17/50\n",
      "24000/24000 [==============================] - 1s 53us/step - loss: 0.1956 - acc: 0.9350 - val_loss: 0.2575 - val_acc: 0.8810\n",
      "Epoch 18/50\n",
      "24000/24000 [==============================] - 1s 54us/step - loss: 0.1880 - acc: 0.9369 - val_loss: 0.2540 - val_acc: 0.8870\n",
      "Epoch 19/50\n",
      "24000/24000 [==============================] - 1s 54us/step - loss: 0.1811 - acc: 0.9390 - val_loss: 0.2526 - val_acc: 0.8830\n",
      "Epoch 20/50\n",
      "24000/24000 [==============================] - 1s 58us/step - loss: 0.1746 - acc: 0.9412 - val_loss: 0.2508 - val_acc: 0.8860\n",
      "Epoch 21/50\n",
      "24000/24000 [==============================] - 1s 55us/step - loss: 0.1687 - acc: 0.9443 - val_loss: 0.2508 - val_acc: 0.8840\n",
      "Epoch 22/50\n",
      "24000/24000 [==============================] - 1s 54us/step - loss: 0.1634 - acc: 0.9455 - val_loss: 0.2500 - val_acc: 0.8850\n",
      "Epoch 23/50\n",
      "24000/24000 [==============================] - 1s 54us/step - loss: 0.1580 - acc: 0.9484 - val_loss: 0.2503 - val_acc: 0.8830\n",
      "Epoch 24/50\n",
      "24000/24000 [==============================] - 1s 54us/step - loss: 0.1533 - acc: 0.9492 - val_loss: 0.2496 - val_acc: 0.8840\n",
      "Epoch 25/50\n",
      "24000/24000 [==============================] - 1s 53us/step - loss: 0.1485 - acc: 0.9521 - val_loss: 0.2510 - val_acc: 0.8830\n",
      "Epoch 26/50\n",
      "24000/24000 [==============================] - 1s 54us/step - loss: 0.1440 - acc: 0.9535 - val_loss: 0.2512 - val_acc: 0.8810\n",
      "Epoch 27/50\n",
      "24000/24000 [==============================] - 1s 54us/step - loss: 0.1400 - acc: 0.9545 - val_loss: 0.2526 - val_acc: 0.8850\n",
      "Epoch 28/50\n",
      "24000/24000 [==============================] - 1s 54us/step - loss: 0.1360 - acc: 0.9568 - val_loss: 0.2540 - val_acc: 0.8850\n",
      "Epoch 29/50\n",
      "24000/24000 [==============================] - 1s 54us/step - loss: 0.1321 - acc: 0.9578 - val_loss: 0.2547 - val_acc: 0.8830\n",
      "Epoch 30/50\n",
      "24000/24000 [==============================] - 1s 54us/step - loss: 0.1285 - acc: 0.9591 - val_loss: 0.2572 - val_acc: 0.8860\n",
      "Epoch 31/50\n",
      "24000/24000 [==============================] - 1s 54us/step - loss: 0.1249 - acc: 0.9601 - val_loss: 0.2584 - val_acc: 0.8870\n",
      "Epoch 32/50\n",
      "24000/24000 [==============================] - 1s 54us/step - loss: 0.1211 - acc: 0.9617 - val_loss: 0.2632 - val_acc: 0.8870\n",
      "Epoch 33/50\n",
      "24000/24000 [==============================] - 1s 54us/step - loss: 0.1178 - acc: 0.9631 - val_loss: 0.2633 - val_acc: 0.8870\n",
      "Epoch 34/50\n",
      "24000/24000 [==============================] - 1s 57us/step - loss: 0.1145 - acc: 0.9640 - val_loss: 0.2672 - val_acc: 0.8910\n",
      "Epoch 35/50\n",
      "24000/24000 [==============================] - 1s 57us/step - loss: 0.1116 - acc: 0.9655 - val_loss: 0.2692 - val_acc: 0.8910\n",
      "Epoch 36/50\n",
      "24000/24000 [==============================] - 1s 55us/step - loss: 0.1086 - acc: 0.9664 - val_loss: 0.2726 - val_acc: 0.8890\n",
      "Epoch 37/50\n",
      "24000/24000 [==============================] - 1s 54us/step - loss: 0.1059 - acc: 0.9677 - val_loss: 0.2739 - val_acc: 0.8940\n",
      "Epoch 38/50\n",
      "24000/24000 [==============================] - 1s 54us/step - loss: 0.1031 - acc: 0.9684 - val_loss: 0.2779 - val_acc: 0.8880\n",
      "Epoch 39/50\n",
      "24000/24000 [==============================] - 1s 54us/step - loss: 0.1003 - acc: 0.9698 - val_loss: 0.2800 - val_acc: 0.8910\n",
      "Epoch 40/50\n",
      "24000/24000 [==============================] - 1s 54us/step - loss: 0.0977 - acc: 0.9704 - val_loss: 0.2856 - val_acc: 0.8880\n",
      "Epoch 41/50\n",
      "24000/24000 [==============================] - 1s 54us/step - loss: 0.0951 - acc: 0.9718 - val_loss: 0.2864 - val_acc: 0.8920\n",
      "Epoch 42/50\n",
      "24000/24000 [==============================] - 1s 54us/step - loss: 0.0928 - acc: 0.9722 - val_loss: 0.2923 - val_acc: 0.8870\n",
      "Epoch 43/50\n",
      "24000/24000 [==============================] - 1s 55us/step - loss: 0.0904 - acc: 0.9730 - val_loss: 0.2933 - val_acc: 0.8900\n",
      "Epoch 44/50\n",
      "24000/24000 [==============================] - 1s 55us/step - loss: 0.0880 - acc: 0.9737 - val_loss: 0.2966 - val_acc: 0.8950\n",
      "Epoch 45/50\n",
      "24000/24000 [==============================] - 1s 54us/step - loss: 0.0856 - acc: 0.9745 - val_loss: 0.3009 - val_acc: 0.8890\n",
      "Epoch 46/50\n",
      "24000/24000 [==============================] - 1s 55us/step - loss: 0.0833 - acc: 0.9752 - val_loss: 0.3062 - val_acc: 0.8860\n",
      "Epoch 47/50\n",
      "24000/24000 [==============================] - 1s 55us/step - loss: 0.0811 - acc: 0.9759 - val_loss: 0.3096 - val_acc: 0.8880\n",
      "Epoch 48/50\n",
      "24000/24000 [==============================] - 1s 55us/step - loss: 0.0790 - acc: 0.9765 - val_loss: 0.3143 - val_acc: 0.8870\n",
      "Epoch 49/50\n",
      "24000/24000 [==============================] - 1s 54us/step - loss: 0.0769 - acc: 0.9778 - val_loss: 0.3184 - val_acc: 0.8850\n",
      "Epoch 50/50\n",
      "24000/24000 [==============================] - 1s 55us/step - loss: 0.0747 - acc: 0.9788 - val_loss: 0.3226 - val_acc: 0.8870\n"
     ]
    }
   ],
   "source": [
    "no_re_history = model.fit(partial_x_train, partial_y_train, \n",
    "                          epochs=50, \n",
    "                          batch_size=512, \n",
    "                          validation_data=(x_val, y_val))"
   ]
  },
  {
   "cell_type": "code",
   "execution_count": 12,
   "metadata": {},
   "outputs": [
    {
     "name": "stdout",
     "output_type": "stream",
     "text": [
      "Train on 24000 samples, validate on 1000 samples\n",
      "Epoch 1/50\n",
      "24000/24000 [==============================] - 1s 61us/step - loss: 0.7071 - acc: 0.6356 - val_loss: 0.6674 - val_acc: 0.7150\n",
      "Epoch 2/50\n",
      "24000/24000 [==============================] - 1s 56us/step - loss: 0.6250 - acc: 0.7842 - val_loss: 0.5881 - val_acc: 0.7990\n",
      "Epoch 3/50\n",
      "24000/24000 [==============================] - 1s 56us/step - loss: 0.5476 - acc: 0.8413 - val_loss: 0.5219 - val_acc: 0.8340\n",
      "Epoch 4/50\n",
      "24000/24000 [==============================] - 1s 56us/step - loss: 0.4848 - acc: 0.8676 - val_loss: 0.4703 - val_acc: 0.8590\n",
      "Epoch 5/50\n",
      "24000/24000 [==============================] - 1s 55us/step - loss: 0.4363 - acc: 0.8825 - val_loss: 0.4315 - val_acc: 0.8630\n",
      "Epoch 6/50\n",
      "24000/24000 [==============================] - 1s 56us/step - loss: 0.3991 - acc: 0.8924 - val_loss: 0.4016 - val_acc: 0.8660\n",
      "Epoch 7/50\n",
      "24000/24000 [==============================] - 1s 56us/step - loss: 0.3697 - acc: 0.8999 - val_loss: 0.3788 - val_acc: 0.8700\n",
      "Epoch 8/50\n",
      "24000/24000 [==============================] - 1s 56us/step - loss: 0.3462 - acc: 0.9062 - val_loss: 0.3612 - val_acc: 0.8770\n",
      "Epoch 9/50\n",
      "24000/24000 [==============================] - 1s 55us/step - loss: 0.3268 - acc: 0.9115 - val_loss: 0.3470 - val_acc: 0.8810\n",
      "Epoch 10/50\n",
      "24000/24000 [==============================] - 1s 55us/step - loss: 0.3106 - acc: 0.9150 - val_loss: 0.3358 - val_acc: 0.8840\n",
      "Epoch 11/50\n",
      "24000/24000 [==============================] - 1s 55us/step - loss: 0.2970 - acc: 0.9190 - val_loss: 0.3271 - val_acc: 0.8840\n",
      "Epoch 12/50\n",
      "24000/24000 [==============================] - 1s 60us/step - loss: 0.2851 - acc: 0.9221 - val_loss: 0.3195 - val_acc: 0.8860\n",
      "Epoch 13/50\n",
      "24000/24000 [==============================] - 1s 57us/step - loss: 0.2752 - acc: 0.9242 - val_loss: 0.3138 - val_acc: 0.8910\n",
      "Epoch 14/50\n",
      "24000/24000 [==============================] - 1s 56us/step - loss: 0.2668 - acc: 0.9265 - val_loss: 0.3096 - val_acc: 0.8920\n",
      "Epoch 15/50\n",
      "24000/24000 [==============================] - 1s 56us/step - loss: 0.2589 - acc: 0.9291 - val_loss: 0.3059 - val_acc: 0.8920\n",
      "Epoch 16/50\n",
      "24000/24000 [==============================] - 1s 55us/step - loss: 0.2519 - acc: 0.9319 - val_loss: 0.3032 - val_acc: 0.8940\n",
      "Epoch 17/50\n",
      "24000/24000 [==============================] - 1s 55us/step - loss: 0.2455 - acc: 0.9337 - val_loss: 0.3006 - val_acc: 0.8900\n",
      "Epoch 18/50\n",
      "24000/24000 [==============================] - 1s 57us/step - loss: 0.2398 - acc: 0.9363 - val_loss: 0.2991 - val_acc: 0.8920\n",
      "Epoch 19/50\n",
      "24000/24000 [==============================] - 1s 59us/step - loss: 0.2347 - acc: 0.9380 - val_loss: 0.2974 - val_acc: 0.8940\n",
      "Epoch 20/50\n",
      "24000/24000 [==============================] - 1s 58us/step - loss: 0.2299 - acc: 0.9400 - val_loss: 0.2971 - val_acc: 0.8920\n",
      "Epoch 21/50\n",
      "24000/24000 [==============================] - 1s 55us/step - loss: 0.2253 - acc: 0.9420 - val_loss: 0.2953 - val_acc: 0.8960\n",
      "Epoch 22/50\n",
      "24000/24000 [==============================] - 1s 54us/step - loss: 0.2209 - acc: 0.9435 - val_loss: 0.2947 - val_acc: 0.8950\n",
      "Epoch 23/50\n",
      "24000/24000 [==============================] - 1s 54us/step - loss: 0.2161 - acc: 0.9445 - val_loss: 0.2941 - val_acc: 0.8960\n",
      "Epoch 24/50\n",
      "24000/24000 [==============================] - 1s 56us/step - loss: 0.2113 - acc: 0.9466 - val_loss: 0.2945 - val_acc: 0.8950\n",
      "Epoch 25/50\n",
      "24000/24000 [==============================] - 1s 55us/step - loss: 0.2077 - acc: 0.9484 - val_loss: 0.2957 - val_acc: 0.8940\n",
      "Epoch 26/50\n",
      "24000/24000 [==============================] - 1s 56us/step - loss: 0.2043 - acc: 0.9497 - val_loss: 0.2958 - val_acc: 0.8950\n",
      "Epoch 27/50\n",
      "24000/24000 [==============================] - 1s 55us/step - loss: 0.2013 - acc: 0.9506 - val_loss: 0.2966 - val_acc: 0.8950\n",
      "Epoch 28/50\n",
      "24000/24000 [==============================] - 1s 55us/step - loss: 0.1981 - acc: 0.9522 - val_loss: 0.2972 - val_acc: 0.8950\n",
      "Epoch 29/50\n",
      "24000/24000 [==============================] - 1s 56us/step - loss: 0.1954 - acc: 0.9537 - val_loss: 0.2995 - val_acc: 0.8910\n",
      "Epoch 30/50\n",
      "24000/24000 [==============================] - 1s 55us/step - loss: 0.1929 - acc: 0.9548 - val_loss: 0.3001 - val_acc: 0.8920\n",
      "Epoch 31/50\n",
      "24000/24000 [==============================] - 1s 56us/step - loss: 0.1904 - acc: 0.9558 - val_loss: 0.3008 - val_acc: 0.8930\n",
      "Epoch 32/50\n",
      "24000/24000 [==============================] - 1s 53us/step - loss: 0.1881 - acc: 0.9572 - val_loss: 0.3017 - val_acc: 0.8950\n",
      "Epoch 33/50\n",
      "24000/24000 [==============================] - 1s 56us/step - loss: 0.1858 - acc: 0.9578 - val_loss: 0.3029 - val_acc: 0.8960\n",
      "Epoch 34/50\n",
      "24000/24000 [==============================] - 1s 55us/step - loss: 0.1835 - acc: 0.9587 - val_loss: 0.3041 - val_acc: 0.8970\n",
      "Epoch 35/50\n",
      "24000/24000 [==============================] - 1s 56us/step - loss: 0.1815 - acc: 0.9595 - val_loss: 0.3066 - val_acc: 0.8920\n",
      "Epoch 36/50\n",
      "24000/24000 [==============================] - 1s 55us/step - loss: 0.1793 - acc: 0.9606 - val_loss: 0.3069 - val_acc: 0.8990\n",
      "Epoch 37/50\n",
      "24000/24000 [==============================] - 1s 55us/step - loss: 0.1775 - acc: 0.9609 - val_loss: 0.3092 - val_acc: 0.8940\n",
      "Epoch 38/50\n",
      "24000/24000 [==============================] - 1s 55us/step - loss: 0.1754 - acc: 0.9617 - val_loss: 0.3099 - val_acc: 0.8960\n",
      "Epoch 39/50\n",
      "24000/24000 [==============================] - 1s 56us/step - loss: 0.1736 - acc: 0.9625 - val_loss: 0.3131 - val_acc: 0.8940\n",
      "Epoch 40/50\n",
      "24000/24000 [==============================] - 1s 56us/step - loss: 0.1720 - acc: 0.9630 - val_loss: 0.3128 - val_acc: 0.8970\n",
      "Epoch 41/50\n",
      "24000/24000 [==============================] - 1s 55us/step - loss: 0.1700 - acc: 0.9641 - val_loss: 0.3139 - val_acc: 0.8950\n",
      "Epoch 42/50\n",
      "24000/24000 [==============================] - 1s 55us/step - loss: 0.1685 - acc: 0.9645 - val_loss: 0.3157 - val_acc: 0.8950\n",
      "Epoch 43/50\n",
      "24000/24000 [==============================] - 1s 55us/step - loss: 0.1667 - acc: 0.9646 - val_loss: 0.3177 - val_acc: 0.8960\n",
      "Epoch 44/50\n",
      "24000/24000 [==============================] - 1s 56us/step - loss: 0.1651 - acc: 0.9657 - val_loss: 0.3202 - val_acc: 0.8960\n",
      "Epoch 45/50\n",
      "24000/24000 [==============================] - 1s 57us/step - loss: 0.1637 - acc: 0.9658 - val_loss: 0.3234 - val_acc: 0.8950\n",
      "Epoch 46/50\n",
      "24000/24000 [==============================] - 1s 55us/step - loss: 0.1621 - acc: 0.9671 - val_loss: 0.3227 - val_acc: 0.8940\n",
      "Epoch 47/50\n",
      "24000/24000 [==============================] - 1s 56us/step - loss: 0.1606 - acc: 0.9677 - val_loss: 0.3247 - val_acc: 0.8950\n",
      "Epoch 48/50\n",
      "24000/24000 [==============================] - 1s 56us/step - loss: 0.1592 - acc: 0.9680 - val_loss: 0.3268 - val_acc: 0.8930\n",
      "Epoch 49/50\n",
      "24000/24000 [==============================] - 1s 56us/step - loss: 0.1578 - acc: 0.9680 - val_loss: 0.3290 - val_acc: 0.8950\n",
      "Epoch 50/50\n",
      "24000/24000 [==============================] - 1s 55us/step - loss: 0.1564 - acc: 0.9696 - val_loss: 0.3307 - val_acc: 0.8930\n"
     ]
    }
   ],
   "source": [
    "model2 = Sequential()\n",
    "\n",
    "model2.add(Dense(16, activation='relu', input_shape=(10000,), kernel_regularizer=regularizers.l2(0.001)))\n",
    "model2.add(Dense(16, activation='relu', kernel_regularizer=regularizers.l2(0.001)))\n",
    "model2.add(Dense(1, activation='sigmoid'))\n",
    "\n",
    "model2.compile(\n",
    "    optimizer=RMSprop(lr=0.0001), \n",
    "    loss='binary_crossentropy', \n",
    "    metrics=['accuracy'])\n",
    "\n",
    "re_history = model2.fit(partial_x_train, partial_y_train, \n",
    "                          epochs=50, \n",
    "                          batch_size=512, \n",
    "                          validation_data=(x_val, y_val))"
   ]
  },
  {
   "cell_type": "code",
   "execution_count": 15,
   "metadata": {},
   "outputs": [
    {
     "name": "stdout",
     "output_type": "stream",
     "text": [
      "Train on 24000 samples, validate on 1000 samples\n",
      "Epoch 1/50\n",
      "24000/24000 [==============================] - 1s 62us/step - loss: 0.6908 - acc: 0.5255 - val_loss: 0.6806 - val_acc: 0.6480\n",
      "Epoch 2/50\n",
      "24000/24000 [==============================] - 1s 55us/step - loss: 0.6740 - acc: 0.5748 - val_loss: 0.6541 - val_acc: 0.7220\n",
      "Epoch 3/50\n",
      "24000/24000 [==============================] - 1s 57us/step - loss: 0.6553 - acc: 0.6142 - val_loss: 0.6249 - val_acc: 0.7680\n",
      "Epoch 4/50\n",
      "24000/24000 [==============================] - 1s 58us/step - loss: 0.6318 - acc: 0.6552 - val_loss: 0.5956 - val_acc: 0.8040\n",
      "Epoch 5/50\n",
      "24000/24000 [==============================] - 1s 57us/step - loss: 0.6114 - acc: 0.6789 - val_loss: 0.5701 - val_acc: 0.8230\n",
      "Epoch 6/50\n",
      "24000/24000 [==============================] - 1s 56us/step - loss: 0.5895 - acc: 0.7015 - val_loss: 0.5426 - val_acc: 0.8280\n",
      "Epoch 7/50\n",
      "24000/24000 [==============================] - 1s 54us/step - loss: 0.5693 - acc: 0.7240 - val_loss: 0.5164 - val_acc: 0.8330\n",
      "Epoch 8/50\n",
      "24000/24000 [==============================] - 1s 56us/step - loss: 0.5534 - acc: 0.7383 - val_loss: 0.4922 - val_acc: 0.8430\n",
      "Epoch 9/50\n",
      "24000/24000 [==============================] - 1s 56us/step - loss: 0.5329 - acc: 0.7510 - val_loss: 0.4708 - val_acc: 0.8470\n",
      "Epoch 10/50\n",
      "24000/24000 [==============================] - 1s 56us/step - loss: 0.5140 - acc: 0.7705 - val_loss: 0.4484 - val_acc: 0.8560\n",
      "Epoch 11/50\n",
      "24000/24000 [==============================] - 1s 55us/step - loss: 0.4979 - acc: 0.7746 - val_loss: 0.4291 - val_acc: 0.8570\n",
      "Epoch 12/50\n",
      "24000/24000 [==============================] - 1s 55us/step - loss: 0.4804 - acc: 0.7942 - val_loss: 0.4112 - val_acc: 0.8630\n",
      "Epoch 13/50\n",
      "24000/24000 [==============================] - 1s 55us/step - loss: 0.4663 - acc: 0.8022 - val_loss: 0.3938 - val_acc: 0.8650\n",
      "Epoch 14/50\n",
      "24000/24000 [==============================] - 1s 54us/step - loss: 0.4556 - acc: 0.8082 - val_loss: 0.3816 - val_acc: 0.8690\n",
      "Epoch 15/50\n",
      "24000/24000 [==============================] - 1s 53us/step - loss: 0.4399 - acc: 0.8220 - val_loss: 0.3680 - val_acc: 0.8710\n",
      "Epoch 16/50\n",
      "24000/24000 [==============================] - 1s 55us/step - loss: 0.4305 - acc: 0.8275 - val_loss: 0.3547 - val_acc: 0.8690\n",
      "Epoch 17/50\n",
      "24000/24000 [==============================] - 1s 56us/step - loss: 0.4138 - acc: 0.8355 - val_loss: 0.3446 - val_acc: 0.8720\n",
      "Epoch 18/50\n",
      "24000/24000 [==============================] - 1s 55us/step - loss: 0.4038 - acc: 0.8414 - val_loss: 0.3346 - val_acc: 0.8780\n",
      "Epoch 19/50\n",
      "24000/24000 [==============================] - 1s 56us/step - loss: 0.3919 - acc: 0.8490 - val_loss: 0.3251 - val_acc: 0.8770\n",
      "Epoch 20/50\n",
      "24000/24000 [==============================] - 1s 57us/step - loss: 0.3794 - acc: 0.8585 - val_loss: 0.3157 - val_acc: 0.8820\n",
      "Epoch 21/50\n",
      "24000/24000 [==============================] - 1s 56us/step - loss: 0.3699 - acc: 0.8639 - val_loss: 0.3085 - val_acc: 0.8800\n",
      "Epoch 22/50\n",
      "24000/24000 [==============================] - 1s 56us/step - loss: 0.3596 - acc: 0.8690 - val_loss: 0.3022 - val_acc: 0.8800\n",
      "Epoch 23/50\n",
      "24000/24000 [==============================] - 1s 57us/step - loss: 0.3536 - acc: 0.8692 - val_loss: 0.2944 - val_acc: 0.8830\n",
      "Epoch 24/50\n",
      "24000/24000 [==============================] - 1s 57us/step - loss: 0.3440 - acc: 0.8784 - val_loss: 0.2889 - val_acc: 0.8840\n",
      "Epoch 25/50\n",
      "24000/24000 [==============================] - 1s 55us/step - loss: 0.3348 - acc: 0.8807 - val_loss: 0.2840 - val_acc: 0.8850\n",
      "Epoch 26/50\n",
      "24000/24000 [==============================] - 1s 56us/step - loss: 0.3264 - acc: 0.8875 - val_loss: 0.2797 - val_acc: 0.8860\n",
      "Epoch 27/50\n",
      "24000/24000 [==============================] - 1s 57us/step - loss: 0.3195 - acc: 0.8908 - val_loss: 0.2759 - val_acc: 0.8840\n",
      "Epoch 28/50\n",
      "24000/24000 [==============================] - 1s 56us/step - loss: 0.3098 - acc: 0.8957 - val_loss: 0.2717 - val_acc: 0.8860\n",
      "Epoch 29/50\n",
      "24000/24000 [==============================] - 1s 56us/step - loss: 0.3057 - acc: 0.8958 - val_loss: 0.2696 - val_acc: 0.8850\n",
      "Epoch 30/50\n",
      "24000/24000 [==============================] - 1s 55us/step - loss: 0.2959 - acc: 0.8987 - val_loss: 0.2670 - val_acc: 0.8860\n",
      "Epoch 31/50\n",
      "24000/24000 [==============================] - 1s 57us/step - loss: 0.2903 - acc: 0.9020 - val_loss: 0.2645 - val_acc: 0.8860\n",
      "Epoch 32/50\n",
      "24000/24000 [==============================] - 1s 53us/step - loss: 0.2858 - acc: 0.9050 - val_loss: 0.2633 - val_acc: 0.8860\n",
      "Epoch 33/50\n",
      "24000/24000 [==============================] - 1s 55us/step - loss: 0.2807 - acc: 0.9073 - val_loss: 0.2616 - val_acc: 0.8870\n",
      "Epoch 34/50\n",
      "24000/24000 [==============================] - 1s 56us/step - loss: 0.2713 - acc: 0.9122 - val_loss: 0.2593 - val_acc: 0.8870\n",
      "Epoch 35/50\n",
      "24000/24000 [==============================] - 1s 56us/step - loss: 0.2655 - acc: 0.9133 - val_loss: 0.2580 - val_acc: 0.8880\n",
      "Epoch 36/50\n",
      "24000/24000 [==============================] - 1s 54us/step - loss: 0.2614 - acc: 0.9146 - val_loss: 0.2569 - val_acc: 0.8930\n",
      "Epoch 37/50\n",
      "24000/24000 [==============================] - 1s 54us/step - loss: 0.2535 - acc: 0.9188 - val_loss: 0.2573 - val_acc: 0.8920\n",
      "Epoch 38/50\n",
      "24000/24000 [==============================] - 1s 55us/step - loss: 0.2512 - acc: 0.9204 - val_loss: 0.2561 - val_acc: 0.8920\n",
      "Epoch 39/50\n",
      "24000/24000 [==============================] - 1s 55us/step - loss: 0.2465 - acc: 0.9216 - val_loss: 0.2559 - val_acc: 0.8900\n",
      "Epoch 40/50\n",
      "24000/24000 [==============================] - 1s 55us/step - loss: 0.2421 - acc: 0.9237 - val_loss: 0.2549 - val_acc: 0.8900\n",
      "Epoch 41/50\n",
      "24000/24000 [==============================] - 1s 55us/step - loss: 0.2369 - acc: 0.9254 - val_loss: 0.2546 - val_acc: 0.8890\n",
      "Epoch 42/50\n",
      "24000/24000 [==============================] - 1s 56us/step - loss: 0.2324 - acc: 0.9273 - val_loss: 0.2550 - val_acc: 0.8900\n",
      "Epoch 43/50\n",
      "24000/24000 [==============================] - 1s 55us/step - loss: 0.2285 - acc: 0.9303 - val_loss: 0.2552 - val_acc: 0.8900\n",
      "Epoch 44/50\n",
      "24000/24000 [==============================] - 1s 55us/step - loss: 0.2253 - acc: 0.9300 - val_loss: 0.2566 - val_acc: 0.8900\n",
      "Epoch 45/50\n",
      "24000/24000 [==============================] - 1s 56us/step - loss: 0.2194 - acc: 0.9328 - val_loss: 0.2567 - val_acc: 0.8900\n",
      "Epoch 46/50\n",
      "24000/24000 [==============================] - 1s 55us/step - loss: 0.2173 - acc: 0.9352 - val_loss: 0.2569 - val_acc: 0.8890\n",
      "Epoch 47/50\n",
      "24000/24000 [==============================] - 1s 55us/step - loss: 0.2132 - acc: 0.9374 - val_loss: 0.2580 - val_acc: 0.8890\n",
      "Epoch 48/50\n",
      "24000/24000 [==============================] - 1s 55us/step - loss: 0.2103 - acc: 0.9388 - val_loss: 0.2582 - val_acc: 0.8880\n",
      "Epoch 49/50\n",
      "24000/24000 [==============================] - 1s 56us/step - loss: 0.2040 - acc: 0.9386 - val_loss: 0.2607 - val_acc: 0.8880\n",
      "Epoch 50/50\n",
      "24000/24000 [==============================] - 1s 55us/step - loss: 0.2020 - acc: 0.9395 - val_loss: 0.2611 - val_acc: 0.8880\n"
     ]
    }
   ],
   "source": [
    "model3 = Sequential()\n",
    "model3.add(Dense(16, activation='relu', input_shape=(10000,)))\n",
    "model3.add(Dropout(0.5))\n",
    "model3.add(Dense(16, activation='relu'))\n",
    "model3.add(Dropout(0.5))\n",
    "model3.add(Dense(1, activation='sigmoid'))\n",
    "\n",
    "model3.compile(\n",
    "    optimizer=RMSprop(lr=0.0001), \n",
    "    loss='binary_crossentropy', \n",
    "    metrics=['accuracy'])\n",
    "\n",
    "do_history = model3.fit(partial_x_train, partial_y_train, \n",
    "                        epochs=50, \n",
    "                        batch_size=512, \n",
    "                        validation_data=(x_val, y_val))"
   ]
  },
  {
   "cell_type": "code",
   "execution_count": 18,
   "metadata": {},
   "outputs": [],
   "source": [
    "import matplotlib.pyplot as plt"
   ]
  },
  {
   "cell_type": "code",
   "execution_count": 16,
   "metadata": {},
   "outputs": [],
   "source": [
    "no_re_his_dict = no_re_history.history\n",
    "re_his_dict = re_history.history\n",
    "do_his_dict = do_history.history"
   ]
  },
  {
   "cell_type": "code",
   "execution_count": 17,
   "metadata": {},
   "outputs": [
    {
     "data": {
      "text/plain": [
       "dict_keys(['val_loss', 'val_acc', 'loss', 'acc'])"
      ]
     },
     "execution_count": 17,
     "metadata": {},
     "output_type": "execute_result"
    }
   ],
   "source": [
    "no_re_his_dict.keys()"
   ]
  },
  {
   "cell_type": "code",
   "execution_count": 19,
   "metadata": {},
   "outputs": [],
   "source": [
    "no_val_loss = no_re_his_dict['val_loss']\n",
    "val_loss = re_his_dict['val_loss']\n",
    "do_loss = do_his_dict['val_loss']\n",
    "epochs = range(1, len(no_val_loss) + 1)"
   ]
  },
  {
   "cell_type": "code",
   "execution_count": 20,
   "metadata": {},
   "outputs": [
    {
     "data": {
      "image/png": "[encoded data removed]",
      "text/plain": [
       "<Figure size 432x288 with 1 Axes>"
      ]
     },
     "metadata": {},
     "output_type": "display_data"
    }
   ],
   "source": [
    "plt.plot(epochs, no_val_loss, 'bo', label='Original model loss')\n",
    "plt.plot(epochs, val_loss, 'b+', label='L2-regulized model loss')\n",
    "plt.plot(epochs, do_loss, 'r+', label='Dropout model loss')\n",
    "plt.title('Validation loss')\n",
    "plt.xlabel('Epochs')\n",
    "plt.ylabel('Loss')\n",
    "plt.legend()\n",
    "\n",
    "plt.show()"
   ]
  },
  {
   "cell_type": "code",
   "execution_count": 21,
   "metadata": {},
   "outputs": [
    {
     "data": {
      "image/png": "[encoded data removed]",
      "text/plain": [
       "<Figure size 432x288 with 1 Axes>"
      ]
     },
     "metadata": {},
     "output_type": "display_data"
    }
   ],
   "source": [
    "plt.clf()\n",
    "\n",
    "no_val_acc = no_re_his_dict['val_acc']\n",
    "val_acc = re_his_dict['val_acc']\n",
    "do_acc = do_his_dict['val_acc']\n",
    "epochs = range(1, len(no_val_acc) + 1)\n",
    "\n",
    "plt.plot(epochs, no_val_acc, 'bo', label='Original model acc')\n",
    "plt.plot(epochs, val_acc, 'b+', label='L2-regulized model acc')\n",
    "plt.plot(epochs, do_acc, 'r+', label='Dropout model acc')\n",
    "plt.title('Validation acc')\n",
    "plt.xlabel('Epochs')\n",
    "plt.ylabel('acc')\n",
    "plt.legend()\n",
    "\n",
    "plt.show()"
   ]
  },
  {
   "cell_type": "code",
   "execution_count": null,
   "metadata": {},
   "outputs": [],
   "source": []
  },
  {
   "cell_type": "code",
   "execution_count": null,
   "metadata": {},
   "outputs": [],
   "source": []
  },
  {
   "cell_type": "code",
   "execution_count": null,
   "metadata": {},
   "outputs": [],
   "source": []
  }
 ],
 "metadata": {
  "kernelspec": {
   "display_name": "Python 3",
   "language": "python",
   "name": "python3"
  },
  "language_info": {
   "codemirror_mode": {
    "name": "ipython",
    "version": 3
   },
   "file_extension": ".py",
   "mimetype": "text/x-python",
   "name": "python",
   "nbconvert_exporter": "python",
   "pygments_lexer": "ipython3",
   "version": "3.6.6"
  }
 },
 "nbformat": 4,
 "nbformat_minor": 2
}
