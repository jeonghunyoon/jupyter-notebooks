{
 "cells": [
  {
   "cell_type": "code",
   "execution_count": 33,
   "metadata": {},
   "outputs": [],
   "source": [
    "from sklearn.tree import DecisionTreeClassifier\n",
    "from sklearn.ensemble import BaggingClassifier, RandomForestClassifier\n",
    "from sklearn.model_selection import train_test_split, GridSearchCV\n",
    "from sklearn.preprocessing import LabelEncoder, OneHotEncoder\n",
    "from sklearn.pipeline import Pipeline\n",
    "from sklearn.preprocessing import StandardScaler\n",
    "from sklearn.metrics import accuracy_score, classification_report\n",
    "\n",
    "import pandas as pd\n",
    "import numpy as np\n",
    "import typing"
   ]
  },
  {
   "cell_type": "code",
   "execution_count": 2,
   "metadata": {},
   "outputs": [],
   "source": [
    "TARGET = 'Attrition'"
   ]
  },
  {
   "cell_type": "code",
   "execution_count": 7,
   "metadata": {},
   "outputs": [],
   "source": [
    "data = pd.read_csv('../mldata/ibm_hr_data.csv')"
   ]
  },
  {
   "cell_type": "code",
   "execution_count": 8,
   "metadata": {},
   "outputs": [],
   "source": [
    "target = data[TARGET]\n",
    "data.drop(TARGET, axis=1, inplace=True)"
   ]
  },
  {
   "cell_type": "code",
   "execution_count": 9,
   "metadata": {},
   "outputs": [],
   "source": [
    "CATE_COLS = []\n",
    "NUM_COLS = []\n",
    "for col in data.columns.tolist():\n",
    "    if data[col].dtype == 'object':\n",
    "        CATE_COLS.append(col)\n",
    "    else:\n",
    "        NUM_COLS.append(col)"
   ]
  },
  {
   "cell_type": "code",
   "execution_count": 10,
   "metadata": {},
   "outputs": [
    {
     "data": {
      "text/plain": [
       "['BusinessTravel',\n",
       " 'Department',\n",
       " 'EducationField',\n",
       " 'Gender',\n",
       " 'JobRole',\n",
       " 'MaritalStatus',\n",
       " 'Over18',\n",
       " 'OverTime']"
      ]
     },
     "execution_count": 10,
     "metadata": {},
     "output_type": "execute_result"
    }
   ],
   "source": [
    "CATE_COLS"
   ]
  },
  {
   "cell_type": "code",
   "execution_count": 11,
   "metadata": {},
   "outputs": [
    {
     "data": {
      "text/plain": [
       "['Age',\n",
       " 'DailyRate',\n",
       " 'DistanceFromHome',\n",
       " 'Education',\n",
       " 'EmployeeCount',\n",
       " 'EmployeeNumber',\n",
       " 'EnvironmentSatisfaction',\n",
       " 'HourlyRate',\n",
       " 'JobInvolvement',\n",
       " 'JobLevel',\n",
       " 'JobSatisfaction',\n",
       " 'MonthlyIncome',\n",
       " 'MonthlyRate',\n",
       " 'NumCompaniesWorked',\n",
       " 'PercentSalaryHike',\n",
       " 'PerformanceRating',\n",
       " 'RelationshipSatisfaction',\n",
       " 'StandardHours',\n",
       " 'StockOptionLevel',\n",
       " 'TotalWorkingYears',\n",
       " 'TrainingTimesLastYear',\n",
       " 'WorkLifeBalance',\n",
       " 'YearsAtCompany',\n",
       " 'YearsInCurrentRole',\n",
       " 'YearsSinceLastPromotion',\n",
       " 'YearsWithCurrManager']"
      ]
     },
     "execution_count": 11,
     "metadata": {},
     "output_type": "execute_result"
    }
   ],
   "source": [
    "NUM_COLS"
   ]
  },
  {
   "cell_type": "code",
   "execution_count": 12,
   "metadata": {},
   "outputs": [
    {
     "name": "stderr",
     "output_type": "stream",
     "text": [
      "/Users/kakao/.pyenv/versions/3.6.3/lib/python3.6/site-packages/sklearn/preprocessing/label.py:111: DataConversionWarning: A column-vector y was passed when a 1d array was expected. Please change the shape of y to (n_samples, ), for example using ravel().\n",
      "  y = column_or_1d(y, warn=True)\n"
     ]
    }
   ],
   "source": [
    "class ReshapedLabelEncoder(LabelEncoder):\n",
    "    def fit_transform(self, y, *args):\n",
    "        return super().fit_transform(y).reshape(-1, 1)\n",
    "    \n",
    "reshape_label_encoder = ReshapedLabelEncoder()\n",
    "one_hot_encoder = OneHotEncoder()\n",
    "pipeline = Pipeline([\n",
    "    ('label_encoder', reshape_label_encoder),\n",
    "    ('one_hot_encoder', one_hot_encoder)\n",
    "])\n",
    "\n",
    "label_encoder = LabelEncoder()\n",
    "target = label_encoder.fit_transform(target.values.reshape(-1, 1))"
   ]
  },
  {
   "cell_type": "code",
   "execution_count": 13,
   "metadata": {},
   "outputs": [],
   "source": [
    "# Columns:\n",
    "def feature_transform(df, cate_cols, numer_cols, scalers: typing.List, is_train_set=True):\n",
    "    features = np.array([])\n",
    "    \n",
    "    # 1. Categorical column : 변수의 중요도를 보기 위해서는 get_dummy를 사용하는것이 좋다.\n",
    "    reshape_label_encoder = ReshapedLabelEncoder()\n",
    "    one_hot_encoder = OneHotEncoder()\n",
    "    pipeline = Pipeline([\n",
    "        ('label_encoder', reshape_label_encoder),\n",
    "        ('one_hot_encoder', one_hot_encoder)\n",
    "    ])\n",
    "    for col in cate_cols:\n",
    "        # Nan 값이 존재하는 경우, dummy string 사용\n",
    "        df[col].fillna('DUMMY', inplace=True)\n",
    "        oh = pipeline.fit_transform(df[col]).toarray()\n",
    "        if len(features) == 0:\n",
    "            features = oh\n",
    "        else:\n",
    "            features = np.hstack([features, oh])\n",
    "    \n",
    "    # 2. Numeric column\n",
    "    for idx, col in enumerate(numer_cols):\n",
    "        # Nan 값이 존재하는 경우, 0을 사용\n",
    "        df[col].fillna(0, inplace=True)\n",
    "        if is_train_set:\n",
    "            scaler = StandardScaler()\n",
    "            sf = scaler.fit_transform(df[col].astype('float').values.reshape(-1, 1))    \n",
    "            scalers.append(scaler)\n",
    "        else:\n",
    "            scaler = scalers[idx]\n",
    "            sf = scaler.transform(df[col].astype('float').values.reshape(-1, 1))\n",
    "        features = np.hstack([features, sf])\n",
    "    return features, scalers"
   ]
  },
  {
   "cell_type": "code",
   "execution_count": 14,
   "metadata": {},
   "outputs": [],
   "source": [
    "train_data, test_data, train_labels, test_labels = train_test_split(data, target, test_size=0.2)"
   ]
  },
  {
   "cell_type": "code",
   "execution_count": 15,
   "metadata": {},
   "outputs": [
    {
     "name": "stderr",
     "output_type": "stream",
     "text": [
      "/Users/kakao/.pyenv/versions/3.6.3/lib/python3.6/site-packages/pandas/core/generic.py:4355: SettingWithCopyWarning: \n",
      "A value is trying to be set on a copy of a slice from a DataFrame\n",
      "\n",
      "See the caveats in the documentation: http://pandas.pydata.org/pandas-docs/stable/indexing.html#indexing-view-versus-copy\n",
      "  self._update_inplace(new_data)\n",
      "/Users/kakao/.pyenv/versions/3.6.3/lib/python3.6/site-packages/pandas/core/generic.py:4355: SettingWithCopyWarning: \n",
      "A value is trying to be set on a copy of a slice from a DataFrame\n",
      "\n",
      "See the caveats in the documentation: http://pandas.pydata.org/pandas-docs/stable/indexing.html#indexing-view-versus-copy\n",
      "  self._update_inplace(new_data)\n",
      "/Users/kakao/.pyenv/versions/3.6.3/lib/python3.6/site-packages/pandas/core/generic.py:4355: SettingWithCopyWarning: \n",
      "A value is trying to be set on a copy of a slice from a DataFrame\n",
      "\n",
      "See the caveats in the documentation: http://pandas.pydata.org/pandas-docs/stable/indexing.html#indexing-view-versus-copy\n",
      "  self._update_inplace(new_data)\n",
      "/Users/kakao/.pyenv/versions/3.6.3/lib/python3.6/site-packages/pandas/core/generic.py:4355: SettingWithCopyWarning: \n",
      "A value is trying to be set on a copy of a slice from a DataFrame\n",
      "\n",
      "See the caveats in the documentation: http://pandas.pydata.org/pandas-docs/stable/indexing.html#indexing-view-versus-copy\n",
      "  self._update_inplace(new_data)\n",
      "/Users/kakao/.pyenv/versions/3.6.3/lib/python3.6/site-packages/pandas/core/generic.py:4355: SettingWithCopyWarning: \n",
      "A value is trying to be set on a copy of a slice from a DataFrame\n",
      "\n",
      "See the caveats in the documentation: http://pandas.pydata.org/pandas-docs/stable/indexing.html#indexing-view-versus-copy\n",
      "  self._update_inplace(new_data)\n",
      "/Users/kakao/.pyenv/versions/3.6.3/lib/python3.6/site-packages/pandas/core/generic.py:4355: SettingWithCopyWarning: \n",
      "A value is trying to be set on a copy of a slice from a DataFrame\n",
      "\n",
      "See the caveats in the documentation: http://pandas.pydata.org/pandas-docs/stable/indexing.html#indexing-view-versus-copy\n",
      "  self._update_inplace(new_data)\n",
      "/Users/kakao/.pyenv/versions/3.6.3/lib/python3.6/site-packages/pandas/core/generic.py:4355: SettingWithCopyWarning: \n",
      "A value is trying to be set on a copy of a slice from a DataFrame\n",
      "\n",
      "See the caveats in the documentation: http://pandas.pydata.org/pandas-docs/stable/indexing.html#indexing-view-versus-copy\n",
      "  self._update_inplace(new_data)\n",
      "/Users/kakao/.pyenv/versions/3.6.3/lib/python3.6/site-packages/pandas/core/generic.py:4355: SettingWithCopyWarning: \n",
      "A value is trying to be set on a copy of a slice from a DataFrame\n",
      "\n",
      "See the caveats in the documentation: http://pandas.pydata.org/pandas-docs/stable/indexing.html#indexing-view-versus-copy\n",
      "  self._update_inplace(new_data)\n",
      "/Users/kakao/.pyenv/versions/3.6.3/lib/python3.6/site-packages/pandas/core/generic.py:4355: SettingWithCopyWarning: \n",
      "A value is trying to be set on a copy of a slice from a DataFrame\n",
      "\n",
      "See the caveats in the documentation: http://pandas.pydata.org/pandas-docs/stable/indexing.html#indexing-view-versus-copy\n",
      "  self._update_inplace(new_data)\n"
     ]
    },
    {
     "name": "stdout",
     "output_type": "stream",
     "text": [
      "(1176, 55)\n"
     ]
    }
   ],
   "source": [
    "scalers = []\n",
    "train_x, scalers = feature_transform(train_data, CATE_COLS, NUM_COLS, scalers, True)\n",
    "print(train_x.shape)"
   ]
  },
  {
   "cell_type": "code",
   "execution_count": 16,
   "metadata": {},
   "outputs": [
    {
     "name": "stderr",
     "output_type": "stream",
     "text": [
      "/Users/kakao/.pyenv/versions/3.6.3/lib/python3.6/site-packages/pandas/core/generic.py:4355: SettingWithCopyWarning: \n",
      "A value is trying to be set on a copy of a slice from a DataFrame\n",
      "\n",
      "See the caveats in the documentation: http://pandas.pydata.org/pandas-docs/stable/indexing.html#indexing-view-versus-copy\n",
      "  self._update_inplace(new_data)\n",
      "/Users/kakao/.pyenv/versions/3.6.3/lib/python3.6/site-packages/pandas/core/generic.py:4355: SettingWithCopyWarning: \n",
      "A value is trying to be set on a copy of a slice from a DataFrame\n",
      "\n",
      "See the caveats in the documentation: http://pandas.pydata.org/pandas-docs/stable/indexing.html#indexing-view-versus-copy\n",
      "  self._update_inplace(new_data)\n",
      "/Users/kakao/.pyenv/versions/3.6.3/lib/python3.6/site-packages/pandas/core/generic.py:4355: SettingWithCopyWarning: \n",
      "A value is trying to be set on a copy of a slice from a DataFrame\n",
      "\n",
      "See the caveats in the documentation: http://pandas.pydata.org/pandas-docs/stable/indexing.html#indexing-view-versus-copy\n",
      "  self._update_inplace(new_data)\n",
      "/Users/kakao/.pyenv/versions/3.6.3/lib/python3.6/site-packages/pandas/core/generic.py:4355: SettingWithCopyWarning: \n",
      "A value is trying to be set on a copy of a slice from a DataFrame\n",
      "\n",
      "See the caveats in the documentation: http://pandas.pydata.org/pandas-docs/stable/indexing.html#indexing-view-versus-copy\n",
      "  self._update_inplace(new_data)\n",
      "/Users/kakao/.pyenv/versions/3.6.3/lib/python3.6/site-packages/pandas/core/generic.py:4355: SettingWithCopyWarning: \n",
      "A value is trying to be set on a copy of a slice from a DataFrame\n",
      "\n",
      "See the caveats in the documentation: http://pandas.pydata.org/pandas-docs/stable/indexing.html#indexing-view-versus-copy\n",
      "  self._update_inplace(new_data)\n",
      "/Users/kakao/.pyenv/versions/3.6.3/lib/python3.6/site-packages/pandas/core/generic.py:4355: SettingWithCopyWarning: \n",
      "A value is trying to be set on a copy of a slice from a DataFrame\n",
      "\n",
      "See the caveats in the documentation: http://pandas.pydata.org/pandas-docs/stable/indexing.html#indexing-view-versus-copy\n",
      "  self._update_inplace(new_data)\n",
      "/Users/kakao/.pyenv/versions/3.6.3/lib/python3.6/site-packages/pandas/core/generic.py:4355: SettingWithCopyWarning: \n",
      "A value is trying to be set on a copy of a slice from a DataFrame\n",
      "\n",
      "See the caveats in the documentation: http://pandas.pydata.org/pandas-docs/stable/indexing.html#indexing-view-versus-copy\n",
      "  self._update_inplace(new_data)\n",
      "/Users/kakao/.pyenv/versions/3.6.3/lib/python3.6/site-packages/pandas/core/generic.py:4355: SettingWithCopyWarning: \n",
      "A value is trying to be set on a copy of a slice from a DataFrame\n",
      "\n",
      "See the caveats in the documentation: http://pandas.pydata.org/pandas-docs/stable/indexing.html#indexing-view-versus-copy\n",
      "  self._update_inplace(new_data)\n",
      "/Users/kakao/.pyenv/versions/3.6.3/lib/python3.6/site-packages/pandas/core/generic.py:4355: SettingWithCopyWarning: \n",
      "A value is trying to be set on a copy of a slice from a DataFrame\n",
      "\n",
      "See the caveats in the documentation: http://pandas.pydata.org/pandas-docs/stable/indexing.html#indexing-view-versus-copy\n",
      "  self._update_inplace(new_data)\n"
     ]
    }
   ],
   "source": [
    "test_x, _ = feature_transform(test_data, CATE_COLS, NUM_COLS, scalers, False)"
   ]
  },
  {
   "cell_type": "code",
   "execution_count": 17,
   "metadata": {},
   "outputs": [
    {
     "name": "stdout",
     "output_type": "stream",
     "text": [
      "(294, 55)\n"
     ]
    }
   ],
   "source": [
    "print(test_x.shape)"
   ]
  },
  {
   "cell_type": "markdown",
   "metadata": {},
   "source": [
    "### Decision tree"
   ]
  },
  {
   "cell_type": "code",
   "execution_count": 18,
   "metadata": {},
   "outputs": [],
   "source": [
    "d_tree = DecisionTreeClassifier(criterion='gini', \n",
    "                                max_depth=5, \n",
    "                                min_samples_split=2, \n",
    "                                min_samples_leaf=1, \n",
    "                                random_state=42, class_weight={0:0.3, 1:0.7})"
   ]
  },
  {
   "cell_type": "code",
   "execution_count": 19,
   "metadata": {},
   "outputs": [
    {
     "data": {
      "text/plain": [
       "DecisionTreeClassifier(class_weight={0: 0.3, 1: 0.7}, criterion='gini',\n",
       "            max_depth=5, max_features=None, max_leaf_nodes=None,\n",
       "            min_impurity_decrease=0.0, min_impurity_split=None,\n",
       "            min_samples_leaf=1, min_samples_split=2,\n",
       "            min_weight_fraction_leaf=0.0, presort=False, random_state=42,\n",
       "            splitter='best')"
      ]
     },
     "execution_count": 19,
     "metadata": {},
     "output_type": "execute_result"
    }
   ],
   "source": [
    "d_tree.fit(train_x, train_labels)"
   ]
  },
  {
   "cell_type": "code",
   "execution_count": 20,
   "metadata": {},
   "outputs": [],
   "source": [
    "train_pred = d_tree.predict(train_x)\n",
    "test_pred = d_tree.predict(test_x)"
   ]
  },
  {
   "cell_type": "code",
   "execution_count": 21,
   "metadata": {},
   "outputs": [
    {
     "name": "stdout",
     "output_type": "stream",
     "text": [
      "====================\n",
      "\n",
      "Train accuracy 0.8818027210884354\n",
      "\n",
      "Test accuracy 0.8333333333333334\n",
      "\n",
      "Complete report of training data\n",
      "              precision    recall  f1-score   support\n",
      "\n",
      "          0       0.93      0.93      0.93       991\n",
      "          1       0.62      0.63      0.63       185\n",
      "\n",
      "avg / total       0.88      0.88      0.88      1176\n",
      "\n",
      "\n",
      "Complete report of testing data\n",
      "              precision    recall  f1-score   support\n",
      "\n",
      "          0       0.89      0.91      0.90       242\n",
      "          1       0.53      0.48      0.51        52\n",
      "\n",
      "avg / total       0.83      0.83      0.83       294\n",
      "\n",
      "\n",
      "Train confusion matrix\n",
      " Actual        0    1\n",
      "Prediction          \n",
      "0           920   68\n",
      "1            71  117\n",
      "\n",
      "Test confusion matrix\n",
      " Actual        0   1\n",
      "Prediction         \n",
      "0           220  27\n",
      "1            22  25\n"
     ]
    }
   ],
   "source": [
    "print('====================')\n",
    "print('\\nTrain accuracy', accuracy_score(train_labels, train_pred))\n",
    "print('\\nTest accuracy', accuracy_score(test_labels, test_pred))\n",
    "print('\\nComplete report of training data\\n', classification_report(train_labels, train_pred))\n",
    "print('\\nComplete report of testing data\\n', classification_report(test_labels, test_pred))\n",
    "print('\\nTrain confusion matrix\\n', pd.crosstab(train_pred, train_labels, rownames=['Prediction'], colnames=['Actual']))\n",
    "print('\\nTest confusion matrix\\n', pd.crosstab(test_pred, test_labels, rownames=['Prediction'], colnames=['Actual']))"
   ]
  },
  {
   "cell_type": "markdown",
   "metadata": {},
   "source": [
    "### Bagging"
   ]
  },
  {
   "cell_type": "code",
   "execution_count": 22,
   "metadata": {},
   "outputs": [],
   "source": [
    "bg_tree = BaggingClassifier(base_estimator=d_tree, \n",
    "                            n_estimators=5000, \n",
    "                            max_samples=0.67,\n",
    "                            max_features=1.0, \n",
    "                            bootstrap=True, \n",
    "                            bootstrap_features=False, \n",
    "                            n_jobs=-1, \n",
    "                            random_state=42)"
   ]
  },
  {
   "cell_type": "code",
   "execution_count": 23,
   "metadata": {},
   "outputs": [],
   "source": [
    "bg_tree.fit(train_x, train_labels)\n",
    "train_pred = bg_tree.predict(train_x)\n",
    "test_pred = bg_tree.predict(test_x)"
   ]
  },
  {
   "cell_type": "code",
   "execution_count": 24,
   "metadata": {},
   "outputs": [
    {
     "name": "stdout",
     "output_type": "stream",
     "text": [
      "====================\n",
      "\n",
      "Train accuracy 0.9226190476190477\n",
      "\n",
      "Test accuracy 0.8571428571428571\n",
      "\n",
      "Complete report of training data\n",
      "              precision    recall  f1-score   support\n",
      "\n",
      "          0       0.92      0.99      0.96       991\n",
      "          1       0.95      0.54      0.69       185\n",
      "\n",
      "avg / total       0.92      0.92      0.91      1176\n",
      "\n",
      "\n",
      "Complete report of testing data\n",
      "              precision    recall  f1-score   support\n",
      "\n",
      "          0       0.86      0.98      0.92       242\n",
      "          1       0.78      0.27      0.40        52\n",
      "\n",
      "avg / total       0.85      0.86      0.83       294\n",
      "\n",
      "\n",
      "Train confusion matrix\n",
      " Actual        0   1\n",
      "Prediction         \n",
      "0           986  86\n",
      "1             5  99\n",
      "\n",
      "Test confusion matrix\n",
      " Actual        0   1\n",
      "Prediction         \n",
      "0           238  38\n",
      "1             4  14\n"
     ]
    }
   ],
   "source": [
    "print('====================')\n",
    "print('\\nTrain accuracy', accuracy_score(train_labels, train_pred))\n",
    "print('\\nTest accuracy', accuracy_score(test_labels, test_pred))\n",
    "print('\\nComplete report of training data\\n', classification_report(train_labels, train_pred))\n",
    "print('\\nComplete report of testing data\\n', classification_report(test_labels, test_pred))\n",
    "print('\\nTrain confusion matrix\\n', pd.crosstab(train_pred, train_labels, rownames=['Prediction'], colnames=['Actual']))\n",
    "print('\\nTest confusion matrix\\n', pd.crosstab(test_pred, test_labels, rownames=['Prediction'], colnames=['Actual']))"
   ]
  },
  {
   "cell_type": "markdown",
   "metadata": {},
   "source": [
    "### Random forest"
   ]
  },
  {
   "cell_type": "code",
   "execution_count": 26,
   "metadata": {},
   "outputs": [
    {
     "data": {
      "text/plain": [
       "RandomForestClassifier(bootstrap=True, class_weight={0: 0.3, 1: 0.7},\n",
       "            criterion='gini', max_depth=5, max_features='auto',\n",
       "            max_leaf_nodes=None, min_impurity_decrease=0.0,\n",
       "            min_impurity_split=None, min_samples_leaf=1,\n",
       "            min_samples_split=2, min_weight_fraction_leaf=0.0,\n",
       "            n_estimators=5000, n_jobs=1, oob_score=False,\n",
       "            random_state=None, verbose=0, warm_start=False)"
      ]
     },
     "execution_count": 26,
     "metadata": {},
     "output_type": "execute_result"
    }
   ],
   "source": [
    "rf_tree = RandomForestClassifier(n_estimators=5000, \n",
    "                                 criterion='gini',\n",
    "                                 max_depth=5, \n",
    "                                 min_samples_split=2,\n",
    "                                 min_samples_leaf=1,\n",
    "                                 class_weight={0:0.3, 1:0.7})\n",
    "rf_tree.fit(train_x, train_labels)"
   ]
  },
  {
   "cell_type": "code",
   "execution_count": 28,
   "metadata": {},
   "outputs": [],
   "source": [
    "rf_tree.fit(train_x, train_labels)\n",
    "train_pred = rf_tree.predict(train_x)\n",
    "test_pred = rf_tree.predict(test_x)"
   ]
  },
  {
   "cell_type": "code",
   "execution_count": 29,
   "metadata": {},
   "outputs": [
    {
     "name": "stdout",
     "output_type": "stream",
     "text": [
      "====================\n",
      "\n",
      "Train accuracy 0.9047619047619048\n",
      "\n",
      "Test accuracy 0.8673469387755102\n",
      "\n",
      "Complete report of training data\n",
      "              precision    recall  f1-score   support\n",
      "\n",
      "          0       0.90      0.99      0.95       991\n",
      "          1       0.94      0.42      0.58       185\n",
      "\n",
      "avg / total       0.91      0.90      0.89      1176\n",
      "\n",
      "\n",
      "Complete report of testing data\n",
      "              precision    recall  f1-score   support\n",
      "\n",
      "          0       0.87      0.99      0.92       242\n",
      "          1       0.88      0.29      0.43        52\n",
      "\n",
      "avg / total       0.87      0.87      0.84       294\n",
      "\n",
      "\n",
      "Train confusion matrix\n",
      " Actual        0    1\n",
      "Prediction          \n",
      "0           986  107\n",
      "1             5   78\n",
      "\n",
      "Test confusion matrix\n",
      " Actual        0   1\n",
      "Prediction         \n",
      "0           240  37\n",
      "1             2  15\n"
     ]
    }
   ],
   "source": [
    "print('====================')\n",
    "print('\\nTrain accuracy', accuracy_score(train_labels, train_pred))\n",
    "print('\\nTest accuracy', accuracy_score(test_labels, test_pred))\n",
    "print('\\nComplete report of training data\\n', classification_report(train_labels, train_pred))\n",
    "print('\\nComplete report of testing data\\n', classification_report(test_labels, test_pred))\n",
    "print('\\nTrain confusion matrix\\n', pd.crosstab(train_pred, train_labels, rownames=['Prediction'], colnames=['Actual']))\n",
    "print('\\nTest confusion matrix\\n', pd.crosstab(test_pred, test_labels, rownames=['Prediction'], colnames=['Actual']))"
   ]
  },
  {
   "cell_type": "code",
   "execution_count": 37,
   "metadata": {},
   "outputs": [],
   "source": [
    "pipeline = Pipeline([\n",
    "    ('rf', RandomForestClassifier(criterion='gini', class_weight={0:0.3, 1:0.7}))\n",
    "])\n",
    "\n",
    "parameters = {\n",
    "    'rf__n_estimators': (2000, 3000, 5000),\n",
    "    'rf__max_depth': (5, 15, 30),\n",
    "    'rf__min_samples_split': (2, 3),\n",
    "    'rf__min_samples_leaf': (1, 2),\n",
    "}"
   ]
  },
  {
   "cell_type": "code",
   "execution_count": 38,
   "metadata": {},
   "outputs": [],
   "source": [
    "grid_search = GridSearchCV(pipeline, parameters, n_jobs=-1, cv=5, verbose=1, scoring='accuracy')"
   ]
  },
  {
   "cell_type": "code",
   "execution_count": 39,
   "metadata": {},
   "outputs": [
    {
     "name": "stdout",
     "output_type": "stream",
     "text": [
      "Fitting 5 folds for each of 36 candidates, totalling 180 fits\n"
     ]
    },
    {
     "name": "stderr",
     "output_type": "stream",
     "text": [
      "[Parallel(n_jobs=-1)]: Done  34 tasks      | elapsed:   40.8s\n",
      "[Parallel(n_jobs=-1)]: Done 180 out of 180 | elapsed:  4.3min finished\n"
     ]
    }
   ],
   "source": [
    "grid_search.fit(train_x, train_labels)\n",
    "test_pred = grid_search.predict(test_x)"
   ]
  },
  {
   "cell_type": "code",
   "execution_count": 40,
   "metadata": {},
   "outputs": [
    {
     "name": "stdout",
     "output_type": "stream",
     "text": [
      "Best Training Score: 0.865\n",
      "\n",
      "Best Parameters Set :\n",
      "\tmemory: None\n",
      "\trf: RandomForestClassifier(bootstrap=True, class_weight={0: 0.3, 1: 0.7},\n",
      "            criterion='gini', max_depth=5, max_features='auto',\n",
      "            max_leaf_nodes=None, min_impurity_decrease=0.0,\n",
      "            min_impurity_split=None, min_samples_leaf=1,\n",
      "            min_samples_split=2, min_weight_fraction_leaf=0.0,\n",
      "            n_estimators=2000, n_jobs=1, oob_score=False,\n",
      "            random_state=None, verbose=0, warm_start=False)\n",
      "\trf__bootstrap: True\n",
      "\trf__class_weight: {0: 0.3, 1: 0.7}\n",
      "\trf__criterion: 'gini'\n",
      "\trf__max_depth: 5\n",
      "\trf__max_features: 'auto'\n",
      "\trf__max_leaf_nodes: None\n",
      "\trf__min_impurity_decrease: 0.0\n",
      "\trf__min_impurity_split: None\n",
      "\trf__min_samples_leaf: 1\n",
      "\trf__min_samples_split: 2\n",
      "\trf__min_weight_fraction_leaf: 0.0\n",
      "\trf__n_estimators: 2000\n",
      "\trf__n_jobs: 1\n",
      "\trf__oob_score: False\n",
      "\trf__random_state: None\n",
      "\trf__verbose: 0\n",
      "\trf__warm_start: False\n",
      "\tsteps: [('rf', RandomForestClassifier(bootstrap=True, class_weight={0: 0.3, 1: 0.7},\n",
      "            criterion='gini', max_depth=5, max_features='auto',\n",
      "            max_leaf_nodes=None, min_impurity_decrease=0.0,\n",
      "            min_impurity_split=None, min_samples_leaf=1,\n",
      "            min_samples_split=2, min_weight_fraction_leaf=0.0,\n",
      "            n_estimators=2000, n_jobs=1, oob_score=False,\n",
      "            random_state=None, verbose=0, warm_start=False))]\n",
      "\n",
      "Train accuracy 0.9047619047619048\n",
      "\n",
      "Test accuracy 0.8639455782312925\n",
      "\n",
      "Complete report of training data\n",
      "              precision    recall  f1-score   support\n",
      "\n",
      "          0       0.90      0.99      0.95       991\n",
      "          1       0.94      0.42      0.58       185\n",
      "\n",
      "avg / total       0.91      0.90      0.89      1176\n",
      "\n",
      "\n",
      "Complete report of testing data\n",
      "              precision    recall  f1-score   support\n",
      "\n",
      "          0       0.86      0.99      0.92       242\n",
      "          1       0.88      0.27      0.41        52\n",
      "\n",
      "avg / total       0.87      0.86      0.83       294\n",
      "\n",
      "\n",
      "Train confusion matrix\n",
      " Actual        0    1\n",
      "Prediction          \n",
      "0           986  107\n",
      "1             5   78\n",
      "\n",
      "Test confusion matrix\n",
      " Actual        0   1\n",
      "Prediction         \n",
      "0           240  38\n",
      "1             2  14\n"
     ]
    }
   ],
   "source": [
    "print('Best Training Score: %0.3f' %grid_search.best_score_)\n",
    "best_parameters = grid_search.best_estimator_.get_params()\n",
    "print('\\nBest Parameters Set :')\n",
    "for param_name in sorted(best_parameters.keys()):\n",
    "    print('\\t%s: %r' % (param_name, best_parameters[param_name]))\n",
    "print('\\nTrain accuracy', accuracy_score(train_labels, train_pred))\n",
    "print('\\nTest accuracy', accuracy_score(test_labels, test_pred))\n",
    "print('\\nComplete report of training data\\n', classification_report(train_labels, train_pred))\n",
    "print('\\nComplete report of testing data\\n', classification_report(test_labels, test_pred))\n",
    "print('\\nTrain confusion matrix\\n', pd.crosstab(train_pred, train_labels, rownames=['Prediction'], colnames=['Actual']))\n",
    "print('\\nTest confusion matrix\\n', pd.crosstab(test_pred, test_labels, rownames=['Prediction'], colnames=['Actual']))"
   ]
  },
  {
   "cell_type": "code",
   "execution_count": null,
   "metadata": {},
   "outputs": [],
   "source": []
  }
 ],
 "metadata": {
  "kernelspec": {
   "display_name": "Python 3",
   "language": "python",
   "name": "python3"
  },
  "language_info": {
   "codemirror_mode": {
    "name": "ipython",
    "version": 3
   },
   "file_extension": ".py",
   "mimetype": "text/x-python",
   "name": "python",
   "nbconvert_exporter": "python",
   "pygments_lexer": "ipython3",
   "version": "3.6.3"
  }
 },
 "nbformat": 4,
 "nbformat_minor": 2
}
