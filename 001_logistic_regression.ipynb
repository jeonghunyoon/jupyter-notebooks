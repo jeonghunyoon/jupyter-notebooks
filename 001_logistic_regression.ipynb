{
 "cells": [
  {
   "cell_type": "markdown",
   "metadata": {},
   "source": [
    "Author : Jeonghun Yoon"
   ]
  },
  {
   "cell_type": "markdown",
   "metadata": {},
   "source": [
    "# Logistic regression (로지스틱 회귀)\n",
    "\n",
    "**로지스틱 회귀**는 채무이행이 가능한지의 여부를 확률로 계산해야하는 신용정보 관련 산업이나 리스크 관련 산업에서 널리 사용되는 기법입니다. 로지스틱 회귀를 제대로 사용하기 위해서는 다음의 이론을 알아야 합니다.\n",
    " - Likelihood (우도)\n",
    " - Information Value (IV, 정보 가치)\n",
    " - Akaike Information Criteria (AIC)\n",
    " - Receiver Operating Characteristic (ROC 곡선)\n",
    " - Rank ordering (순위 정렬)\n",
    " - C-statistic / Concordance (C-통계량, 일치값)\n",
    " - K-S 통계량\n",
    " - 모집단 안정화 지수"
   ]
  },
  {
   "cell_type": "markdown",
   "metadata": {},
   "source": [
    "## 1. 로지스틱 회귀 모델링"
   ]
  },
  {
   "cell_type": "markdown",
   "metadata": {},
   "source": [
    "1. Feature selection\n",
    " 1. 제외할 변수 및 변수의 적합성을 정의\n",
    " 2. 초기 데이터를 준비하고 단일 변량 분석 실시\n",
    " 3. 파생/더미 변수 생성\n",
    " 4. 미세 분류와 개략 분류 (fine classing / coarse classing)\n",
    "2. Model training\n",
    "3. Model evaluation (validation check)"
   ]
  },
  {
   "cell_type": "markdown",
   "metadata": {},
   "source": [
    "### Data set\n",
    "- https://www.kaggle.com/crowdflower/twitter-user-gender-classification\n",
    "- https://www.kaggle.com/shubhamjoshi2130of/abstract-data-set-for-credit-card-fraud-detection\n",
    "- https://www.kaggle.com/c/home-credit-default-risk/data\n",
    "\n",
    "데이터는 Kaggle의 Home Credit Default Risk의 데이터를 사용합니다. 고객 정보를 이용하여, 이 고객이 돈을 갚을 수 있는지 없는지를 예측하는 로지스틱 회귀 모형을 생성하겠습니다."
   ]
  },
  {
   "cell_type": "markdown",
   "metadata": {},
   "source": [
    "### 1. Pre feature selection"
   ]
  },
  {
   "cell_type": "code",
   "execution_count": 1,
   "metadata": {},
   "outputs": [],
   "source": [
    "import pandas as pd\n",
    "import numpy as np\n",
    "import typing\n",
    "\n",
    "pd.options.display.max_columns=None\n",
    "pd.options.display.max_rows=None"
   ]
  },
  {
   "cell_type": "code",
   "execution_count": 2,
   "metadata": {},
   "outputs": [],
   "source": [
    "COLUMNS = ['Status of existing checking account ', \n",
    "           'Duration in month',\n",
    "           'Credit history', \n",
    "           'Purpose', \n",
    "           'Credit amount', \n",
    "           'Savings account/bonds', \n",
    "           'Present employment since', \n",
    "           'Installment rate in percentage of disposable income', \n",
    "           'Personal status and sex', \n",
    "           'Other debtors / guarantors', \n",
    "           'Present residence since', \n",
    "           'Property', \n",
    "           'Age in years', \n",
    "           'Other installment plans', \n",
    "           'Housing', \n",
    "           'Number of existing credits at this bank', \n",
    "           'Job', \n",
    "           'Number of people being liable to provide maintenance for', \n",
    "           'Telephone', \n",
    "           'foreign worker', \n",
    "           'target']"
   ]
  },
  {
   "cell_type": "code",
   "execution_count": 3,
   "metadata": {},
   "outputs": [],
   "source": [
    "train_set = pd.read_csv('./german.csv', delimiter='\\s+', names=COLUMNS, index_col=False)"
   ]
  },
  {
   "cell_type": "code",
   "execution_count": 4,
   "metadata": {},
   "outputs": [],
   "source": [
    "train_set['target'] = train_set['target'] - 1"
   ]
  },
  {
   "cell_type": "markdown",
   "metadata": {},
   "source": [
    "#### Information Value (IV), Weight of Evidence (WOE) \n",
    "모델에서 변수의 사용유무를 판단하는 feature selection에서 유용한 방법입니다. 주로 모델을 학습하기전 첫 단계에서 변수들을 제거하는 데 사용합니다. 최종 모델에서는 대략 10개 내외의 변수를 사용하도록 합니다. IV와 WOE 신용채무능력이 가능한(good) 고객과 불가능한(bad) 고객을 예측하는 로지스틱 회귀 모델링과 밀접한 관계가 있습니다. 신용 정보 관련분야에서는 good customer는 부채를 갚을 수 있는 고객, bad customer는 부채를 갚을 수 없는 고객을 뜻합니다. 일반적으로 이야기할 때는 good customer는 non-events를 의미하고 bad customer는 events를 의미합니다.\n",
    "\n",
    "> 신용 관련 분야\n",
    "\n",
    "$\n",
    "\\begin{align}\n",
    "&\\text{WOE} = ln{\\frac{\\text{distribution of good}}{\\text{distribution of bad}}} \\\\\n",
    "&\\text{IV} = \\sum{(\\text{WOE} \\times (\\text{distribution of good} - \\text{distribution of bad}))}\\\\\n",
    "\\end{align}\n",
    "$\n",
    "\n",
    ">일반적\n",
    "\n",
    "$\n",
    "\\begin{align}\n",
    "&\\text{WOE} = ln{\\frac{\\text{distribution of non-events}}{\\text{distribution of events}}} \\\\\n",
    "&\\text{IV} = \\sum{(\\text{WOE} \\times (\\text{distribution of non-events} - \\text{distribution of events}))}\\\\\n",
    "\\end{align}\n",
    "$"
   ]
  },
  {
   "cell_type": "markdown",
   "metadata": {},
   "source": [
    "<U>구현시 생각해봐야 할 점</U>\n",
    "- line 6, 구간을 나눌 때(bin) 중복되는 데이터에 대해서 나누지 못하는 경우가 생긴다. 구현시에는 중복 데이터를 무시하여, 데이터에 맞추어 구간이 나누어지도록 했다. 만약 `rank`, `method='first'`를 사용하면 중복되는 데이터들의 ranking을 사용하므로 중복을 방지하여 구간이 나누어지도록 한다. 하지만 같은 데이터임에도 불구하고 다른 구간에 속할 위험이 있다. 따라서 여기서는 ranking을 사용하지 않았다.\n",
    "- *inf* 값이 존재하는 구간은 제외하고 IV를 구하도록 하였다. 이 부분도 고민해 볼 부분이다."
   ]
  },
  {
   "cell_type": "code",
   "execution_count": 6,
   "metadata": {},
   "outputs": [],
   "source": [
    "def calc_iv(df, col, target):\n",
    "    if df[col].dtype == 'object':\n",
    "        col_df = df.groupby(col)[target].agg(['count', 'sum'])\n",
    "    else:\n",
    "        col_bin = col +'_bin'\n",
    "        df.loc[:, col_bin] = pd.qcut(df[col], 10, duplicates='drop')  # pd.qcut(df[col].rank(method='first'), 10)\n",
    "        col_df = df.groupby(col_bin)[target].agg(['count', 'sum'])\n",
    "    col_total = col + '_total'\n",
    "    col_good = col + '_good'\n",
    "    col_bad = col + '_bad'\n",
    "    col_good_dist = col + '_good_dist'\n",
    "    col_bad_dist = col + '_bad_dist'\n",
    "    col_woe = col + '_woe'\n",
    "    col_iv = col + '_iv'\n",
    "    \n",
    "    col_df.columns = [col_total, col_bad]\n",
    "    col_df[col_good] = col_df[col_total] - col_df[col_bad]\n",
    "    col_df[col_good_dist] = col_df[col_good] / sum(col_df[col_good])\n",
    "    col_df[col_bad_dist] = col_df[col_bad] / sum(col_df[col_bad])\n",
    "    col_df[col_woe] = np.log(col_df[col_good_dist] / col_df[col_bad_dist])\n",
    "    col_df[col_iv] = col_df[col_woe] * (col_df[col_good_dist] - col_df[col_bad_dist])\n",
    "    # Inf 값이 있는경우는, 그 값을 제외하고 계산해본다. 과연 맞는지 확인해 볼 필요가 있다.\n",
    "    iv_val = sum(filter(lambda x: x != float('inf'), col_df[col_iv]))\n",
    "    return (col, iv_val, df[col].dtype, sum(df[col].notnull()))"
   ]
  },
  {
   "cell_type": "code",
   "execution_count": 7,
   "metadata": {},
   "outputs": [],
   "source": [
    "train_set.reset_index(inplace=True)"
   ]
  },
  {
   "cell_type": "code",
   "execution_count": 8,
   "metadata": {},
   "outputs": [],
   "source": [
    "import operator\n",
    "copied_train_set = train_set.copy()\n",
    "iv_list = []\n",
    "for col in copied_train_set.columns.tolist():\n",
    "    if col != 'target':\n",
    "        iv_list.append(calc_iv(copied_train_set, col, 'target'))\n",
    "    \n",
    "iv_list = sorted(iv_list, key=operator.itemgetter(1), reverse=True)"
   ]
  },
  {
   "cell_type": "markdown",
   "metadata": {},
   "source": [
    "<U>IV 값에 따른 예측력</U>\n",
    "\n",
    "|<center>IV</center>|<center>예측력</center>|\n",
    "|:-----------:|:------------------------------:|\n",
    "|<center>0 to 0.02</center>|<center>무의미</center>|\n",
    "|<center>0.02 to 0.1</center>|<center>낮은 예측</center>|\n",
    "|<center>0.1 to 0.3</center>|<center>중간 예측</center>|\n",
    "|<center>0.3 to 0.5</center>|<center>강한 예측</center>|\n",
    "|<center>0.5 to 1</center>|<center>너무 강한 예측(의심되는 수치)</center>|"
   ]
  },
  {
   "cell_type": "code",
   "execution_count": 9,
   "metadata": {},
   "outputs": [
    {
     "data": {
      "text/plain": [
       "[('Status of existing checking account ',\n",
       "  0.6660115033513336,\n",
       "  dtype('O'),\n",
       "  1000),\n",
       " ('Credit history', 0.2932335473908263, dtype('O'), 1000),\n",
       " ('Duration in month', 0.24654188863116078, dtype('int64'), 1000),\n",
       " ('Savings account/bonds', 0.19600955690422672, dtype('O'), 1000),\n",
       " ('Purpose', 0.16919506567307832, dtype('O'), 1000),\n",
       " ('Credit amount', 0.11363743954612221, dtype('int64'), 1000),\n",
       " ('Property', 0.11263826240979674, dtype('O'), 1000),\n",
       " ('Age in years', 0.10062227273111429, dtype('int64'), 1000),\n",
       " ('Present employment since', 0.086433631026641, dtype('O'), 1000),\n",
       " ('Housing', 0.08329343361549926, dtype('O'), 1000),\n",
       " ('Other installment plans', 0.057614541955647885, dtype('O'), 1000),\n",
       " ('index', 0.04808676382741298, dtype('int64'), 1000),\n",
       " ('Personal status and sex', 0.04467067763379073, dtype('O'), 1000),\n",
       " ('foreign worker', 0.04387741201028899, dtype('O'), 1000),\n",
       " ('Other debtors / guarantors', 0.032019322019485055, dtype('O'), 1000),\n",
       " ('Installment rate in percentage of disposable income',\n",
       "  0.025568864833643443,\n",
       "  dtype('int64'),\n",
       "  1000),\n",
       " ('Job', 0.008762765707428294, dtype('O'), 1000),\n",
       " ('Telephone', 0.0063776050286746735, dtype('O'), 1000),\n",
       " ('Number of existing credits at this bank',\n",
       "  0.0035847291092131707,\n",
       "  dtype('int64'),\n",
       "  1000),\n",
       " ('Present residence since', 0.000577388160207934, dtype('int64'), 1000),\n",
       " ('Number of people being liable to provide maintenance for',\n",
       "  0.0,\n",
       "  dtype('int64'),\n",
       "  1000)]"
      ]
     },
     "execution_count": 9,
     "metadata": {},
     "output_type": "execute_result"
    }
   ],
   "source": [
    "iv_list"
   ]
  },
  {
   "cell_type": "code",
   "execution_count": 10,
   "metadata": {},
   "outputs": [],
   "source": [
    "# 예측력을 가지는 데이터는 모두 사용하도록 하자.\n",
    "col_cand = list(filter(lambda x: (x[1] > 0.02) & (x[3] == len(train_set)), iv_list))"
   ]
  },
  {
   "cell_type": "code",
   "execution_count": 11,
   "metadata": {},
   "outputs": [
    {
     "data": {
      "text/plain": [
       "[('Status of existing checking account ',\n",
       "  0.6660115033513336,\n",
       "  dtype('O'),\n",
       "  1000),\n",
       " ('Credit history', 0.2932335473908263, dtype('O'), 1000),\n",
       " ('Duration in month', 0.24654188863116078, dtype('int64'), 1000),\n",
       " ('Savings account/bonds', 0.19600955690422672, dtype('O'), 1000),\n",
       " ('Purpose', 0.16919506567307832, dtype('O'), 1000),\n",
       " ('Credit amount', 0.11363743954612221, dtype('int64'), 1000),\n",
       " ('Property', 0.11263826240979674, dtype('O'), 1000),\n",
       " ('Age in years', 0.10062227273111429, dtype('int64'), 1000),\n",
       " ('Present employment since', 0.086433631026641, dtype('O'), 1000),\n",
       " ('Housing', 0.08329343361549926, dtype('O'), 1000),\n",
       " ('Other installment plans', 0.057614541955647885, dtype('O'), 1000),\n",
       " ('index', 0.04808676382741298, dtype('int64'), 1000),\n",
       " ('Personal status and sex', 0.04467067763379073, dtype('O'), 1000),\n",
       " ('foreign worker', 0.04387741201028899, dtype('O'), 1000),\n",
       " ('Other debtors / guarantors', 0.032019322019485055, dtype('O'), 1000),\n",
       " ('Installment rate in percentage of disposable income',\n",
       "  0.025568864833643443,\n",
       "  dtype('int64'),\n",
       "  1000)]"
      ]
     },
     "execution_count": 11,
     "metadata": {},
     "output_type": "execute_result"
    }
   ],
   "source": [
    "col_cand"
   ]
  },
  {
   "cell_type": "markdown",
   "metadata": {},
   "source": [
    "### 2. Feature selection with train"
   ]
  },
  {
   "cell_type": "markdown",
   "metadata": {},
   "source": [
    "#### Backword variable selection\n",
    " - 전체 feature를 대상으로 모델에 대한 fit을 구하고, 가장 상관이 없는 feature부터 삭제해가는 기법입니다.\n",
    " \n",
    "#### Forward selection\n",
    " - 각각의 feature에 대해, 모델에 대한 fit이 가장 높은 feature부터 추가해가는 기법입니다."
   ]
  },
  {
   "cell_type": "code",
   "execution_count": 12,
   "metadata": {},
   "outputs": [],
   "source": [
    "# Categorycal column에 대하여 one hot vector를 구합니다.\n",
    "def get_one_hot_df(ser, name, del_list):\n",
    "    one_hot_df = pd.get_dummies(ser, prefix=name)\n",
    "    del_list.append(one_hot_df.columns[-1])\n",
    "    return one_hot_df.iloc[:, :-1]"
   ]
  },
  {
   "cell_type": "code",
   "execution_count": 13,
   "metadata": {},
   "outputs": [],
   "source": [
    "features = pd.DataFrame()\n",
    "numeric_col_names = []\n",
    "del_lists = []\n",
    "\n",
    "for col in col_cand:\n",
    "    if col[2] == 'object':\n",
    "        col_df = get_one_hot_df(train_set[col[0]], col[0], del_lists)\n",
    "        features = pd.concat([features, col_df], axis=1)\n",
    "    else:\n",
    "        features[col[0]] = train_set[col[0]]\n",
    "        numeric_col_names.append(col[-1])"
   ]
  },
  {
   "cell_type": "code",
   "execution_count": 14,
   "metadata": {},
   "outputs": [
    {
     "name": "stdout",
     "output_type": "stream",
     "text": [
      "[1000, 1000, 1000, 1000, 1000]\n",
      "['Status of existing checking account _A14', 'Credit history_A34', 'Savings account/bonds_A65', 'Purpose_A49', 'Property_A124', 'Present employment since_A75', 'Housing_A153', 'Other installment plans_A143', 'Personal status and sex_A94', 'foreign worker_A202', 'Other debtors / guarantors_A103']\n"
     ]
    }
   ],
   "source": [
    "print(numeric_col_names)\n",
    "print(del_lists)"
   ]
  },
  {
   "cell_type": "markdown",
   "metadata": {},
   "source": [
    "NaN 값은 어떻게 처리하면 좋을까?\n",
    " - Categorycal의 경우 : NA도 하나의 카테고리처럼 다룬다.\n",
    " - Numeric의 경우 : 0, min 값"
   ]
  },
  {
   "cell_type": "code",
   "execution_count": 15,
   "metadata": {},
   "outputs": [],
   "source": [
    "from sklearn.preprocessing import MinMaxScaler\n",
    "from sklearn.model_selection import train_test_split"
   ]
  },
  {
   "cell_type": "markdown",
   "metadata": {},
   "source": [
    "Feature normalization (https://sebastianraschka.com/Articles/2014_about_feature_scaling.html)\n",
    " - k-nearest neighbors with an Euclidean distance measure if want all features to contribute equally\n",
    " - k-means (see k-nearest neighbors)\n",
    " - logistic regression, SVMs, perceptrons, neural networks etc. if you are using gradient descent/ascent-based optimization, otherwise some weights will update much faster than others\n",
    " - linear discriminant analysis, principal component analysis, kernel principal component analysis since you want to find directions of maximizing the variance (under the constraints that those directions/eigenvectors/principal components are orthogonal); you want to have features on the same scale since you’d emphasize variables on “larger measurement scales” more. There are many more cases than I can possibly list here … I always recommend you to think about the algorithm and what it’s doing, and then it typically becomes obvious whether we want to scale your features or not.\n",
    "\n",
    "Scale 조정을 할 때, train set 과 test set 을 동시에 하였다. scale 조정법에는 어떤 것들이 있을까?\n",
    "- Min-max scale\n",
    "- Standardization"
   ]
  },
  {
   "cell_type": "code",
   "execution_count": 16,
   "metadata": {},
   "outputs": [],
   "source": [
    "train_x, test_x, train_y, test_y = train_test_split(\n",
    "    features, train_set['target'].values, test_size=0.3, random_state=42)"
   ]
  },
  {
   "cell_type": "code",
   "execution_count": 17,
   "metadata": {},
   "outputs": [],
   "source": [
    "import statsmodels.api as sm"
   ]
  },
  {
   "cell_type": "code",
   "execution_count": 134,
   "metadata": {},
   "outputs": [
    {
     "name": "stdout",
     "output_type": "stream",
     "text": [
      "Optimization terminated successfully.\n",
      "         Current function value: 0.456197\n",
      "         Iterations 7\n"
     ]
    }
   ],
   "source": [
    "logistic_model = sm.Logit(\n",
    "    train_y, \n",
    "    sm.add_constant(train_x)\n",
    ").fit()"
   ]
  },
  {
   "cell_type": "code",
   "execution_count": 135,
   "metadata": {},
   "outputs": [
    {
     "data": {
      "text/html": [
       "<table class=\"simpletable\">\n",
       "<caption>Logit Regression Results</caption>\n",
       "<tr>\n",
       "  <th>Dep. Variable:</th>         <td>y</td>        <th>  No. Observations:  </th>  <td>   700</td>  \n",
       "</tr>\n",
       "<tr>\n",
       "  <th>Model:</th>               <td>Logit</td>      <th>  Df Residuals:      </th>  <td>   657</td>  \n",
       "</tr>\n",
       "<tr>\n",
       "  <th>Method:</th>               <td>MLE</td>       <th>  Df Model:          </th>  <td>    42</td>  \n",
       "</tr>\n",
       "<tr>\n",
       "  <th>Date:</th>          <td>Sun, 28 Oct 2018</td> <th>  Pseudo R-squ.:     </th>  <td>0.2517</td>  \n",
       "</tr>\n",
       "<tr>\n",
       "  <th>Time:</th>              <td>21:14:09</td>     <th>  Log-Likelihood:    </th> <td> -319.34</td> \n",
       "</tr>\n",
       "<tr>\n",
       "  <th>converged:</th>           <td>True</td>       <th>  LL-Null:           </th> <td> -426.75</td> \n",
       "</tr>\n",
       "<tr>\n",
       "  <th> </th>                      <td> </td>        <th>  LLR p-value:       </th> <td>4.714e-25</td>\n",
       "</tr>\n",
       "</table>\n",
       "<table class=\"simpletable\">\n",
       "<tr>\n",
       "                           <td></td>                              <th>coef</th>     <th>std err</th>      <th>z</th>      <th>P>|z|</th>  <th>[0.025</th>    <th>0.975]</th>  \n",
       "</tr>\n",
       "<tr>\n",
       "  <th>const</th>                                               <td>   -4.9314</td> <td>    1.375</td> <td>   -3.586</td> <td> 0.000</td> <td>   -7.627</td> <td>   -2.236</td>\n",
       "</tr>\n",
       "<tr>\n",
       "  <th>Status of existing checking account _A11</th>            <td>    1.5366</td> <td>    0.275</td> <td>    5.583</td> <td> 0.000</td> <td>    0.997</td> <td>    2.076</td>\n",
       "</tr>\n",
       "<tr>\n",
       "  <th>Status of existing checking account _A12</th>            <td>    1.2079</td> <td>    0.269</td> <td>    4.484</td> <td> 0.000</td> <td>    0.680</td> <td>    1.736</td>\n",
       "</tr>\n",
       "<tr>\n",
       "  <th>Status of existing checking account _A13</th>            <td>    0.5017</td> <td>    0.466</td> <td>    1.076</td> <td> 0.282</td> <td>   -0.412</td> <td>    1.416</td>\n",
       "</tr>\n",
       "<tr>\n",
       "  <th>Credit history_A30</th>                                  <td>    1.4087</td> <td>    0.484</td> <td>    2.909</td> <td> 0.004</td> <td>    0.460</td> <td>    2.358</td>\n",
       "</tr>\n",
       "<tr>\n",
       "  <th>Credit history_A31</th>                                  <td>    1.2994</td> <td>    0.489</td> <td>    2.657</td> <td> 0.008</td> <td>    0.341</td> <td>    2.258</td>\n",
       "</tr>\n",
       "<tr>\n",
       "  <th>Credit history_A32</th>                                  <td>    0.7921</td> <td>    0.262</td> <td>    3.027</td> <td> 0.002</td> <td>    0.279</td> <td>    1.305</td>\n",
       "</tr>\n",
       "<tr>\n",
       "  <th>Credit history_A33</th>                                  <td>    0.3271</td> <td>    0.399</td> <td>    0.819</td> <td> 0.413</td> <td>   -0.456</td> <td>    1.110</td>\n",
       "</tr>\n",
       "<tr>\n",
       "  <th>Duration in month</th>                                   <td>    0.0194</td> <td>    0.011</td> <td>    1.793</td> <td> 0.073</td> <td>   -0.002</td> <td>    0.041</td>\n",
       "</tr>\n",
       "<tr>\n",
       "  <th>Savings account/bonds_A61</th>                           <td>    0.6859</td> <td>    0.298</td> <td>    2.300</td> <td> 0.021</td> <td>    0.101</td> <td>    1.270</td>\n",
       "</tr>\n",
       "<tr>\n",
       "  <th>Savings account/bonds_A62</th>                           <td>    0.3945</td> <td>    0.402</td> <td>    0.980</td> <td> 0.327</td> <td>   -0.394</td> <td>    1.183</td>\n",
       "</tr>\n",
       "<tr>\n",
       "  <th>Savings account/bonds_A63</th>                           <td>   -0.0576</td> <td>    0.529</td> <td>   -0.109</td> <td> 0.913</td> <td>   -1.094</td> <td>    0.979</td>\n",
       "</tr>\n",
       "<tr>\n",
       "  <th>Savings account/bonds_A64</th>                           <td>   -0.3701</td> <td>    0.646</td> <td>   -0.573</td> <td> 0.567</td> <td>   -1.636</td> <td>    0.896</td>\n",
       "</tr>\n",
       "<tr>\n",
       "  <th>Purpose_A40</th>                                         <td>    0.5771</td> <td>    0.394</td> <td>    1.466</td> <td> 0.143</td> <td>   -0.194</td> <td>    1.349</td>\n",
       "</tr>\n",
       "<tr>\n",
       "  <th>Purpose_A41</th>                                         <td>   -1.0714</td> <td>    0.512</td> <td>   -2.094</td> <td> 0.036</td> <td>   -2.074</td> <td>   -0.068</td>\n",
       "</tr>\n",
       "<tr>\n",
       "  <th>Purpose_A410</th>                                        <td>   -0.4272</td> <td>    0.846</td> <td>   -0.505</td> <td> 0.613</td> <td>   -2.085</td> <td>    1.230</td>\n",
       "</tr>\n",
       "<tr>\n",
       "  <th>Purpose_A42</th>                                         <td>   -0.5256</td> <td>    0.418</td> <td>   -1.258</td> <td> 0.208</td> <td>   -1.345</td> <td>    0.293</td>\n",
       "</tr>\n",
       "<tr>\n",
       "  <th>Purpose_A43</th>                                         <td>   -0.4600</td> <td>    0.398</td> <td>   -1.155</td> <td> 0.248</td> <td>   -1.241</td> <td>    0.321</td>\n",
       "</tr>\n",
       "<tr>\n",
       "  <th>Purpose_A44</th>                                         <td>   -0.0392</td> <td>    0.831</td> <td>   -0.047</td> <td> 0.962</td> <td>   -1.667</td> <td>    1.589</td>\n",
       "</tr>\n",
       "<tr>\n",
       "  <th>Purpose_A45</th>                                         <td>   -0.0333</td> <td>    0.694</td> <td>   -0.048</td> <td> 0.962</td> <td>   -1.394</td> <td>    1.327</td>\n",
       "</tr>\n",
       "<tr>\n",
       "  <th>Purpose_A46</th>                                         <td>    0.6796</td> <td>    0.580</td> <td>    1.173</td> <td> 0.241</td> <td>   -0.456</td> <td>    1.815</td>\n",
       "</tr>\n",
       "<tr>\n",
       "  <th>Purpose_A48</th>                                         <td>   -1.5269</td> <td>    1.260</td> <td>   -1.212</td> <td> 0.226</td> <td>   -3.996</td> <td>    0.942</td>\n",
       "</tr>\n",
       "<tr>\n",
       "  <th>Credit amount</th>                                       <td>    0.0001</td> <td> 4.78e-05</td> <td>    2.339</td> <td> 0.019</td> <td> 1.82e-05</td> <td>    0.000</td>\n",
       "</tr>\n",
       "<tr>\n",
       "  <th>Property_A121</th>                                       <td>   -0.7163</td> <td>    0.508</td> <td>   -1.409</td> <td> 0.159</td> <td>   -1.712</td> <td>    0.280</td>\n",
       "</tr>\n",
       "<tr>\n",
       "  <th>Property_A122</th>                                       <td>   -0.3168</td> <td>    0.506</td> <td>   -0.626</td> <td> 0.532</td> <td>   -1.309</td> <td>    0.676</td>\n",
       "</tr>\n",
       "<tr>\n",
       "  <th>Property_A123</th>                                       <td>   -0.4731</td> <td>    0.483</td> <td>   -0.980</td> <td> 0.327</td> <td>   -1.419</td> <td>    0.473</td>\n",
       "</tr>\n",
       "<tr>\n",
       "  <th>Age in years</th>                                        <td>   -0.0288</td> <td>    0.011</td> <td>   -2.562</td> <td> 0.010</td> <td>   -0.051</td> <td>   -0.007</td>\n",
       "</tr>\n",
       "<tr>\n",
       "  <th>Present employment since_A71</th>                        <td>    0.1249</td> <td>    0.435</td> <td>    0.287</td> <td> 0.774</td> <td>   -0.728</td> <td>    0.978</td>\n",
       "</tr>\n",
       "<tr>\n",
       "  <th>Present employment since_A72</th>                        <td>    0.2418</td> <td>    0.345</td> <td>    0.700</td> <td> 0.484</td> <td>   -0.435</td> <td>    0.919</td>\n",
       "</tr>\n",
       "<tr>\n",
       "  <th>Present employment since_A73</th>                        <td>    0.1554</td> <td>    0.297</td> <td>    0.523</td> <td> 0.601</td> <td>   -0.427</td> <td>    0.738</td>\n",
       "</tr>\n",
       "<tr>\n",
       "  <th>Present employment since_A74</th>                        <td>   -0.1590</td> <td>    0.348</td> <td>   -0.457</td> <td> 0.648</td> <td>   -0.841</td> <td>    0.523</td>\n",
       "</tr>\n",
       "<tr>\n",
       "  <th>Housing_A151</th>                                        <td>    0.2390</td> <td>    0.576</td> <td>    0.415</td> <td> 0.678</td> <td>   -0.890</td> <td>    1.368</td>\n",
       "</tr>\n",
       "<tr>\n",
       "  <th>Housing_A152</th>                                        <td>   -0.1919</td> <td>    0.539</td> <td>   -0.356</td> <td> 0.722</td> <td>   -1.249</td> <td>    0.865</td>\n",
       "</tr>\n",
       "<tr>\n",
       "  <th>Other installment plans_A141</th>                        <td>    0.5677</td> <td>    0.287</td> <td>    1.979</td> <td> 0.048</td> <td>    0.005</td> <td>    1.130</td>\n",
       "</tr>\n",
       "<tr>\n",
       "  <th>Other installment plans_A142</th>                        <td>    0.4674</td> <td>    0.497</td> <td>    0.941</td> <td> 0.347</td> <td>   -0.506</td> <td>    1.441</td>\n",
       "</tr>\n",
       "<tr>\n",
       "  <th>index</th>                                               <td>-6.755e-05</td> <td>    0.000</td> <td>   -0.192</td> <td> 0.848</td> <td>   -0.001</td> <td>    0.001</td>\n",
       "</tr>\n",
       "<tr>\n",
       "  <th>Personal status and sex_A91</th>                         <td>    0.2042</td> <td>    0.580</td> <td>    0.352</td> <td> 0.725</td> <td>   -0.933</td> <td>    1.342</td>\n",
       "</tr>\n",
       "<tr>\n",
       "  <th>Personal status and sex_A92</th>                         <td>   -0.0409</td> <td>    0.372</td> <td>   -0.110</td> <td> 0.912</td> <td>   -0.770</td> <td>    0.689</td>\n",
       "</tr>\n",
       "<tr>\n",
       "  <th>Personal status and sex_A93</th>                         <td>   -0.4235</td> <td>    0.375</td> <td>   -1.130</td> <td> 0.259</td> <td>   -1.158</td> <td>    0.311</td>\n",
       "</tr>\n",
       "<tr>\n",
       "  <th>foreign worker_A201</th>                                 <td>    1.3488</td> <td>    0.749</td> <td>    1.800</td> <td> 0.072</td> <td>   -0.120</td> <td>    2.818</td>\n",
       "</tr>\n",
       "<tr>\n",
       "  <th>Other debtors / guarantors_A101</th>                     <td>    0.7227</td> <td>    0.474</td> <td>    1.525</td> <td> 0.127</td> <td>   -0.206</td> <td>    1.651</td>\n",
       "</tr>\n",
       "<tr>\n",
       "  <th>Other debtors / guarantors_A102</th>                     <td>    0.7397</td> <td>    0.658</td> <td>    1.125</td> <td> 0.261</td> <td>   -0.550</td> <td>    2.029</td>\n",
       "</tr>\n",
       "<tr>\n",
       "  <th>Installment rate in percentage of disposable income</th> <td>    0.3332</td> <td>    0.103</td> <td>    3.222</td> <td> 0.001</td> <td>    0.130</td> <td>    0.536</td>\n",
       "</tr>\n",
       "</table>"
      ],
      "text/plain": [
       "<class 'statsmodels.iolib.summary.Summary'>\n",
       "\"\"\"\n",
       "                           Logit Regression Results                           \n",
       "==============================================================================\n",
       "Dep. Variable:                      y   No. Observations:                  700\n",
       "Model:                          Logit   Df Residuals:                      657\n",
       "Method:                           MLE   Df Model:                           42\n",
       "Date:                Sun, 28 Oct 2018   Pseudo R-squ.:                  0.2517\n",
       "Time:                        21:14:09   Log-Likelihood:                -319.34\n",
       "converged:                       True   LL-Null:                       -426.75\n",
       "                                        LLR p-value:                 4.714e-25\n",
       "=======================================================================================================================\n",
       "                                                          coef    std err          z      P>|z|      [0.025      0.975]\n",
       "-----------------------------------------------------------------------------------------------------------------------\n",
       "const                                                  -4.9314      1.375     -3.586      0.000      -7.627      -2.236\n",
       "Status of existing checking account _A11                1.5366      0.275      5.583      0.000       0.997       2.076\n",
       "Status of existing checking account _A12                1.2079      0.269      4.484      0.000       0.680       1.736\n",
       "Status of existing checking account _A13                0.5017      0.466      1.076      0.282      -0.412       1.416\n",
       "Credit history_A30                                      1.4087      0.484      2.909      0.004       0.460       2.358\n",
       "Credit history_A31                                      1.2994      0.489      2.657      0.008       0.341       2.258\n",
       "Credit history_A32                                      0.7921      0.262      3.027      0.002       0.279       1.305\n",
       "Credit history_A33                                      0.3271      0.399      0.819      0.413      -0.456       1.110\n",
       "Duration in month                                       0.0194      0.011      1.793      0.073      -0.002       0.041\n",
       "Savings account/bonds_A61                               0.6859      0.298      2.300      0.021       0.101       1.270\n",
       "Savings account/bonds_A62                               0.3945      0.402      0.980      0.327      -0.394       1.183\n",
       "Savings account/bonds_A63                              -0.0576      0.529     -0.109      0.913      -1.094       0.979\n",
       "Savings account/bonds_A64                              -0.3701      0.646     -0.573      0.567      -1.636       0.896\n",
       "Purpose_A40                                             0.5771      0.394      1.466      0.143      -0.194       1.349\n",
       "Purpose_A41                                            -1.0714      0.512     -2.094      0.036      -2.074      -0.068\n",
       "Purpose_A410                                           -0.4272      0.846     -0.505      0.613      -2.085       1.230\n",
       "Purpose_A42                                            -0.5256      0.418     -1.258      0.208      -1.345       0.293\n",
       "Purpose_A43                                            -0.4600      0.398     -1.155      0.248      -1.241       0.321\n",
       "Purpose_A44                                            -0.0392      0.831     -0.047      0.962      -1.667       1.589\n",
       "Purpose_A45                                            -0.0333      0.694     -0.048      0.962      -1.394       1.327\n",
       "Purpose_A46                                             0.6796      0.580      1.173      0.241      -0.456       1.815\n",
       "Purpose_A48                                            -1.5269      1.260     -1.212      0.226      -3.996       0.942\n",
       "Credit amount                                           0.0001   4.78e-05      2.339      0.019    1.82e-05       0.000\n",
       "Property_A121                                          -0.7163      0.508     -1.409      0.159      -1.712       0.280\n",
       "Property_A122                                          -0.3168      0.506     -0.626      0.532      -1.309       0.676\n",
       "Property_A123                                          -0.4731      0.483     -0.980      0.327      -1.419       0.473\n",
       "Age in years                                           -0.0288      0.011     -2.562      0.010      -0.051      -0.007\n",
       "Present employment since_A71                            0.1249      0.435      0.287      0.774      -0.728       0.978\n",
       "Present employment since_A72                            0.2418      0.345      0.700      0.484      -0.435       0.919\n",
       "Present employment since_A73                            0.1554      0.297      0.523      0.601      -0.427       0.738\n",
       "Present employment since_A74                           -0.1590      0.348     -0.457      0.648      -0.841       0.523\n",
       "Housing_A151                                            0.2390      0.576      0.415      0.678      -0.890       1.368\n",
       "Housing_A152                                           -0.1919      0.539     -0.356      0.722      -1.249       0.865\n",
       "Other installment plans_A141                            0.5677      0.287      1.979      0.048       0.005       1.130\n",
       "Other installment plans_A142                            0.4674      0.497      0.941      0.347      -0.506       1.441\n",
       "index                                               -6.755e-05      0.000     -0.192      0.848      -0.001       0.001\n",
       "Personal status and sex_A91                             0.2042      0.580      0.352      0.725      -0.933       1.342\n",
       "Personal status and sex_A92                            -0.0409      0.372     -0.110      0.912      -0.770       0.689\n",
       "Personal status and sex_A93                            -0.4235      0.375     -1.130      0.259      -1.158       0.311\n",
       "foreign worker_A201                                     1.3488      0.749      1.800      0.072      -0.120       2.818\n",
       "Other debtors / guarantors_A101                         0.7227      0.474      1.525      0.127      -0.206       1.651\n",
       "Other debtors / guarantors_A102                         0.7397      0.658      1.125      0.261      -0.550       2.029\n",
       "Installment rate in percentage of disposable income     0.3332      0.103      3.222      0.001       0.130       0.536\n",
       "=======================================================================================================================\n",
       "\"\"\""
      ]
     },
     "execution_count": 135,
     "metadata": {},
     "output_type": "execute_result"
    }
   ],
   "source": [
    "logistic_model.summary()"
   ]
  },
  {
   "cell_type": "markdown",
   "metadata": {},
   "source": [
    "가장 무의미한 변수는, Purpose_A44, Purpose_A45 이다."
   ]
  },
  {
   "cell_type": "markdown",
   "metadata": {},
   "source": [
    "#### Variance Inflation Factor (VIF)"
   ]
  },
  {
   "cell_type": "markdown",
   "metadata": {},
   "source": [
    "다중공선성(multicolinearity)이란 예측변수들간의 ($X's$) 상관성이 높은지를 파악하는 것이며 이것을 VIF로 판단하게 됩니다. VIF는 예측변수들이 상관성이 있을때 추정 회귀 계수의 산포 크기를 측정하는 것이며 산포거 커질수록 모형은 신뢰할 수 없게 됩니다. VIF 값이 1 근방에 있으면 다중공선성이 없어서 모델을 신뢰할 수 있게 되고, 만약 10 이상이면 매우 높은 다중 공선성이 있는 것으로 판단합니다.\n",
    "\n",
    "$VIF(x_1)=\\frac{1}{1-R^2(x_1)}$\n",
    "\n",
    "$R^2$의 값이 작아야합니다."
   ]
  },
  {
   "cell_type": "code",
   "execution_count": 27,
   "metadata": {},
   "outputs": [],
   "source": [
    "vif_cand_cols = train_x.columns.values"
   ]
  },
  {
   "cell_type": "code",
   "execution_count": 34,
   "metadata": {
    "scrolled": true
   },
   "outputs": [
    {
     "name": "stdout",
     "output_type": "stream",
     "text": [
      "[('Housing_A152', 6.386), ('Property_A123', 5.503), ('Property_A121', 5.429), ('Housing_A151', 5.124), ('Property_A122', 4.781), ('Personal status and sex_A93', 3.714), ('Purpose_A43', 3.467), ('Personal status and sex_A92', 3.34), ('Purpose_A40', 3.235), ('Purpose_A42', 2.683), ('Credit amount', 2.464), ('Purpose_A41', 2.235), ('Duration in month', 2.018), ('Other debtors / guarantors_A101', 1.996), ('Savings account/bonds_A61', 1.905), ('Other debtors / guarantors_A102', 1.879), ('Present employment since_A73', 1.874), ('Present employment since_A72', 1.8), ('Present employment since_A74', 1.64), ('Purpose_A46', 1.591), ('Personal status and sex_A91', 1.561), ('Credit history_A32', 1.502), ('Savings account/bonds_A62', 1.5), ('Status of existing checking account _A11', 1.498), ('Status of existing checking account _A12', 1.433), ('Age in years', 1.427), ('Installment rate in percentage of disposable income', 1.338), ('Credit history_A33', 1.332), ('Savings account/bonds_A63', 1.325), ('Present employment since_A71', 1.305), ('Purpose_A410', 1.302), ('Purpose_A45', 1.302), ('Credit history_A31', 1.287), ('Credit history_A30', 1.286), ('Savings account/bonds_A64', 1.273), ('Purpose_A44', 1.22), ('Purpose_A48', 1.182), ('Status of existing checking account _A13', 1.146), ('Other installment plans_A141', 1.145), ('foreign worker_A201', 1.128), ('Other installment plans_A142', 1.125), ('index', 1.025)]\n"
     ]
    }
   ],
   "source": [
    "vif_tuple_list = []\n",
    "for i in range(0, len(vif_cand_cols)):\n",
    "    xvars = list(vif_cand_cols)\n",
    "    yvar = xvars.pop(i)\n",
    "    mod = sm.OLS(train_x[yvar], sm.add_constant(train_x[xvars]))\n",
    "    res = mod.fit()\n",
    "    vif = 1 / (1 - res.rsquared)\n",
    "    vif_tuple_list.append((yvar, round(vif, 3)))\n",
    "print(sorted(vif_tuple_list, key=operator.itemgetter(1), reverse=True))"
   ]
  },
  {
   "cell_type": "markdown",
   "metadata": {},
   "source": [
    "#### C-statistic 계산"
   ]
  },
  {
   "cell_type": "code",
   "execution_count": 51,
   "metadata": {},
   "outputs": [],
   "source": [
    "pred_n_class = pd.DataFrame({'probs': logistic_model.predict(sm.add_constant(train_x)), 'class': train_y})"
   ]
  },
  {
   "cell_type": "code",
   "execution_count": 89,
   "metadata": {},
   "outputs": [],
   "source": [
    "zeros = pred_n_class[pred_n_class['class']==0]\n",
    "ones = pred_n_class[pred_n_class['class']==1]"
   ]
  },
  {
   "cell_type": "code",
   "execution_count": 90,
   "metadata": {},
   "outputs": [],
   "source": [
    "def cross_join(df1, df2, **kwargs):\n",
    "    df1.loc[:, '_tmpkey'] = 1\n",
    "    df2.loc[:, '_tmpkey'] = 1\n",
    "    res = pd.merge(df1, df2, on='_tmpkey', **kwargs).drop('_tmpkey', axis=1)\n",
    "    res.index = pd.MultiIndex.from_product((df1.index, df2.index))\n",
    "    df1.drop('_tmpkey', axis=1, inplace=True)\n",
    "    df2.drop('_tmpkey', axis=1, inplace=True)\n",
    "    \n",
    "    return res"
   ]
  },
  {
   "cell_type": "code",
   "execution_count": 92,
   "metadata": {},
   "outputs": [
    {
     "name": "stderr",
     "output_type": "stream",
     "text": [
      "/Users/kakao/.pyenv/versions/3.6.3/lib/python3.6/site-packages/pandas/core/indexing.py:357: SettingWithCopyWarning: \n",
      "A value is trying to be set on a copy of a slice from a DataFrame.\n",
      "Try using .loc[row_indexer,col_indexer] = value instead\n",
      "\n",
      "See the caveats in the documentation: http://pandas.pydata.org/pandas-docs/stable/indexing.html#indexing-view-versus-copy\n",
      "  self.obj[key] = _infer_fill_value(value)\n",
      "/Users/kakao/.pyenv/versions/3.6.3/lib/python3.6/site-packages/pandas/core/indexing.py:537: SettingWithCopyWarning: \n",
      "A value is trying to be set on a copy of a slice from a DataFrame.\n",
      "Try using .loc[row_indexer,col_indexer] = value instead\n",
      "\n",
      "See the caveats in the documentation: http://pandas.pydata.org/pandas-docs/stable/indexing.html#indexing-view-versus-copy\n",
      "  self.obj[item] = s\n",
      "/Users/kakao/.pyenv/versions/3.6.3/lib/python3.6/site-packages/ipykernel_launcher.py:6: SettingWithCopyWarning: \n",
      "A value is trying to be set on a copy of a slice from a DataFrame\n",
      "\n",
      "See the caveats in the documentation: http://pandas.pydata.org/pandas-docs/stable/indexing.html#indexing-view-versus-copy\n",
      "  \n",
      "/Users/kakao/.pyenv/versions/3.6.3/lib/python3.6/site-packages/ipykernel_launcher.py:7: SettingWithCopyWarning: \n",
      "A value is trying to be set on a copy of a slice from a DataFrame\n",
      "\n",
      "See the caveats in the documentation: http://pandas.pydata.org/pandas-docs/stable/indexing.html#indexing-view-versus-copy\n",
      "  import sys\n"
     ]
    }
   ],
   "source": [
    "joined_data = cross_join(ones, zeros)"
   ]
  },
  {
   "cell_type": "code",
   "execution_count": 94,
   "metadata": {},
   "outputs": [],
   "source": [
    "joined_data['concordant_pair'] = 0\n",
    "joined_data.loc[joined_data['probs_x'] > joined_data['probs_y'], 'concordant_pair'] = 1\n",
    "joined_data['discordant_pair'] = 0\n",
    "joined_data.loc[joined_data['probs_x'] < joined_data['probs_y'], 'discordant_pair'] = 1\n",
    "joined_data['tied_pair'] = 0\n",
    "joined_data.loc[joined_data['probs_x'] == joined_data['probs_y'], 'tied_pair'] = 1\n",
    "\n",
    "p_conc = sum(joined_data['concordant_pair']) / float(len(joined_data))\n",
    "p_disc = sum(joined_data['discordant_pair']) / float(len(joined_data))\n",
    "\n",
    "c_statistic = 0.5 + (p_conc - p_disc) / 2.0"
   ]
  },
  {
   "cell_type": "code",
   "execution_count": 95,
   "metadata": {},
   "outputs": [
    {
     "name": "stdout",
     "output_type": "stream",
     "text": [
      "0.826143306795038\n"
     ]
    }
   ],
   "source": [
    "print(c_statistic)"
   ]
  },
  {
   "cell_type": "code",
   "execution_count": 96,
   "metadata": {},
   "outputs": [],
   "source": [
    "del_cols_insig = []"
   ]
  },
  {
   "cell_type": "code",
   "execution_count": 104,
   "metadata": {},
   "outputs": [],
   "source": [
    "del_cols_insig.append('Purpose_A44')\n",
    "del_cols_insig.append('Purpose_A45')"
   ]
  },
  {
   "cell_type": "markdown",
   "metadata": {},
   "source": [
    "==========\n",
    "1. 의미없는 변수 삭제"
   ]
  },
  {
   "cell_type": "code",
   "execution_count": 105,
   "metadata": {},
   "outputs": [
    {
     "name": "stdout",
     "output_type": "stream",
     "text": [
      "Optimization terminated successfully.\n",
      "         Current function value: 0.456200\n",
      "         Iterations 7\n"
     ]
    }
   ],
   "source": [
    "logistic_model = sm.Logit(\n",
    "    train_y, \n",
    "    sm.add_constant(train_x.drop(del_cols_insig, axis=1))\n",
    ").fit()"
   ]
  },
  {
   "cell_type": "code",
   "execution_count": 106,
   "metadata": {},
   "outputs": [
    {
     "data": {
      "text/html": [
       "<table class=\"simpletable\">\n",
       "<caption>Logit Regression Results</caption>\n",
       "<tr>\n",
       "  <th>Dep. Variable:</th>         <td>y</td>        <th>  No. Observations:  </th>  <td>   700</td>  \n",
       "</tr>\n",
       "<tr>\n",
       "  <th>Model:</th>               <td>Logit</td>      <th>  Df Residuals:      </th>  <td>   659</td>  \n",
       "</tr>\n",
       "<tr>\n",
       "  <th>Method:</th>               <td>MLE</td>       <th>  Df Model:          </th>  <td>    40</td>  \n",
       "</tr>\n",
       "<tr>\n",
       "  <th>Date:</th>          <td>Sun, 28 Oct 2018</td> <th>  Pseudo R-squ.:     </th>  <td>0.2517</td>  \n",
       "</tr>\n",
       "<tr>\n",
       "  <th>Time:</th>              <td>20:34:04</td>     <th>  Log-Likelihood:    </th> <td> -319.34</td> \n",
       "</tr>\n",
       "<tr>\n",
       "  <th>converged:</th>           <td>True</td>       <th>  LL-Null:           </th> <td> -426.75</td> \n",
       "</tr>\n",
       "<tr>\n",
       "  <th> </th>                      <td> </td>        <th>  LLR p-value:       </th> <td>8.692e-26</td>\n",
       "</tr>\n",
       "</table>\n",
       "<table class=\"simpletable\">\n",
       "<tr>\n",
       "                           <td></td>                              <th>coef</th>     <th>std err</th>      <th>z</th>      <th>P>|z|</th>  <th>[0.025</th>    <th>0.975]</th>  \n",
       "</tr>\n",
       "<tr>\n",
       "  <th>const</th>                                               <td>   -4.9425</td> <td>    1.363</td> <td>   -3.626</td> <td> 0.000</td> <td>   -7.614</td> <td>   -2.271</td>\n",
       "</tr>\n",
       "<tr>\n",
       "  <th>Status of existing checking account _A11</th>            <td>    1.5357</td> <td>    0.274</td> <td>    5.610</td> <td> 0.000</td> <td>    0.999</td> <td>    2.072</td>\n",
       "</tr>\n",
       "<tr>\n",
       "  <th>Status of existing checking account _A12</th>            <td>    1.2079</td> <td>    0.269</td> <td>    4.484</td> <td> 0.000</td> <td>    0.680</td> <td>    1.736</td>\n",
       "</tr>\n",
       "<tr>\n",
       "  <th>Status of existing checking account _A13</th>            <td>    0.5013</td> <td>    0.466</td> <td>    1.076</td> <td> 0.282</td> <td>   -0.412</td> <td>    1.414</td>\n",
       "</tr>\n",
       "<tr>\n",
       "  <th>Credit history_A30</th>                                  <td>    1.4103</td> <td>    0.482</td> <td>    2.924</td> <td> 0.003</td> <td>    0.465</td> <td>    2.356</td>\n",
       "</tr>\n",
       "<tr>\n",
       "  <th>Credit history_A31</th>                                  <td>    1.2993</td> <td>    0.489</td> <td>    2.657</td> <td> 0.008</td> <td>    0.341</td> <td>    2.258</td>\n",
       "</tr>\n",
       "<tr>\n",
       "  <th>Credit history_A32</th>                                  <td>    0.7912</td> <td>    0.261</td> <td>    3.029</td> <td> 0.002</td> <td>    0.279</td> <td>    1.303</td>\n",
       "</tr>\n",
       "<tr>\n",
       "  <th>Credit history_A33</th>                                  <td>    0.3285</td> <td>    0.399</td> <td>    0.824</td> <td> 0.410</td> <td>   -0.453</td> <td>    1.110</td>\n",
       "</tr>\n",
       "<tr>\n",
       "  <th>Duration in month</th>                                   <td>    0.0195</td> <td>    0.011</td> <td>    1.804</td> <td> 0.071</td> <td>   -0.002</td> <td>    0.041</td>\n",
       "</tr>\n",
       "<tr>\n",
       "  <th>Savings account/bonds_A61</th>                           <td>    0.6861</td> <td>    0.297</td> <td>    2.308</td> <td> 0.021</td> <td>    0.103</td> <td>    1.269</td>\n",
       "</tr>\n",
       "<tr>\n",
       "  <th>Savings account/bonds_A62</th>                           <td>    0.3948</td> <td>    0.402</td> <td>    0.982</td> <td> 0.326</td> <td>   -0.393</td> <td>    1.183</td>\n",
       "</tr>\n",
       "<tr>\n",
       "  <th>Savings account/bonds_A63</th>                           <td>   -0.0576</td> <td>    0.529</td> <td>   -0.109</td> <td> 0.913</td> <td>   -1.094</td> <td>    0.979</td>\n",
       "</tr>\n",
       "<tr>\n",
       "  <th>Savings account/bonds_A64</th>                           <td>   -0.3687</td> <td>    0.645</td> <td>   -0.572</td> <td> 0.568</td> <td>   -1.633</td> <td>    0.896</td>\n",
       "</tr>\n",
       "<tr>\n",
       "  <th>Purpose_A40</th>                                         <td>    0.5893</td> <td>    0.340</td> <td>    1.736</td> <td> 0.083</td> <td>   -0.076</td> <td>    1.255</td>\n",
       "</tr>\n",
       "<tr>\n",
       "  <th>Purpose_A41</th>                                         <td>   -1.0600</td> <td>    0.476</td> <td>   -2.226</td> <td> 0.026</td> <td>   -1.993</td> <td>   -0.127</td>\n",
       "</tr>\n",
       "<tr>\n",
       "  <th>Purpose_A410</th>                                        <td>   -0.4168</td> <td>    0.828</td> <td>   -0.503</td> <td> 0.615</td> <td>   -2.040</td> <td>    1.207</td>\n",
       "</tr>\n",
       "<tr>\n",
       "  <th>Purpose_A42</th>                                         <td>   -0.5140</td> <td>    0.372</td> <td>   -1.382</td> <td> 0.167</td> <td>   -1.243</td> <td>    0.215</td>\n",
       "</tr>\n",
       "<tr>\n",
       "  <th>Purpose_A43</th>                                         <td>   -0.4478</td> <td>    0.346</td> <td>   -1.295</td> <td> 0.195</td> <td>   -1.125</td> <td>    0.230</td>\n",
       "</tr>\n",
       "<tr>\n",
       "  <th>Purpose_A46</th>                                         <td>    0.6916</td> <td>    0.545</td> <td>    1.268</td> <td> 0.205</td> <td>   -0.377</td> <td>    1.761</td>\n",
       "</tr>\n",
       "<tr>\n",
       "  <th>Purpose_A48</th>                                         <td>   -1.5146</td> <td>    1.244</td> <td>   -1.218</td> <td> 0.223</td> <td>   -3.952</td> <td>    0.923</td>\n",
       "</tr>\n",
       "<tr>\n",
       "  <th>Credit amount</th>                                       <td>    0.0001</td> <td> 4.78e-05</td> <td>    2.340</td> <td> 0.019</td> <td> 1.82e-05</td> <td>    0.000</td>\n",
       "</tr>\n",
       "<tr>\n",
       "  <th>Property_A121</th>                                       <td>   -0.7150</td> <td>    0.508</td> <td>   -1.408</td> <td> 0.159</td> <td>   -1.710</td> <td>    0.280</td>\n",
       "</tr>\n",
       "<tr>\n",
       "  <th>Property_A122</th>                                       <td>   -0.3146</td> <td>    0.505</td> <td>   -0.623</td> <td> 0.534</td> <td>   -1.305</td> <td>    0.676</td>\n",
       "</tr>\n",
       "<tr>\n",
       "  <th>Property_A123</th>                                       <td>   -0.4718</td> <td>    0.482</td> <td>   -0.978</td> <td> 0.328</td> <td>   -1.417</td> <td>    0.474</td>\n",
       "</tr>\n",
       "<tr>\n",
       "  <th>Age in years</th>                                        <td>   -0.0289</td> <td>    0.011</td> <td>   -2.565</td> <td> 0.010</td> <td>   -0.051</td> <td>   -0.007</td>\n",
       "</tr>\n",
       "<tr>\n",
       "  <th>Present employment since_A71</th>                        <td>    0.1230</td> <td>    0.434</td> <td>    0.283</td> <td> 0.777</td> <td>   -0.728</td> <td>    0.974</td>\n",
       "</tr>\n",
       "<tr>\n",
       "  <th>Present employment since_A72</th>                        <td>    0.2404</td> <td>    0.345</td> <td>    0.698</td> <td> 0.485</td> <td>   -0.435</td> <td>    0.916</td>\n",
       "</tr>\n",
       "<tr>\n",
       "  <th>Present employment since_A73</th>                        <td>    0.1541</td> <td>    0.296</td> <td>    0.520</td> <td> 0.603</td> <td>   -0.426</td> <td>    0.735</td>\n",
       "</tr>\n",
       "<tr>\n",
       "  <th>Present employment since_A74</th>                        <td>   -0.1587</td> <td>    0.348</td> <td>   -0.457</td> <td> 0.648</td> <td>   -0.840</td> <td>    0.523</td>\n",
       "</tr>\n",
       "<tr>\n",
       "  <th>Housing_A151</th>                                        <td>    0.2389</td> <td>    0.576</td> <td>    0.415</td> <td> 0.678</td> <td>   -0.890</td> <td>    1.367</td>\n",
       "</tr>\n",
       "<tr>\n",
       "  <th>Housing_A152</th>                                        <td>   -0.1934</td> <td>    0.539</td> <td>   -0.359</td> <td> 0.720</td> <td>   -1.249</td> <td>    0.863</td>\n",
       "</tr>\n",
       "<tr>\n",
       "  <th>Other installment plans_A141</th>                        <td>    0.5697</td> <td>    0.285</td> <td>    2.002</td> <td> 0.045</td> <td>    0.012</td> <td>    1.128</td>\n",
       "</tr>\n",
       "<tr>\n",
       "  <th>Other installment plans_A142</th>                        <td>    0.4708</td> <td>    0.493</td> <td>    0.954</td> <td> 0.340</td> <td>   -0.496</td> <td>    1.438</td>\n",
       "</tr>\n",
       "<tr>\n",
       "  <th>index</th>                                               <td>-6.728e-05</td> <td>    0.000</td> <td>   -0.191</td> <td> 0.848</td> <td>   -0.001</td> <td>    0.001</td>\n",
       "</tr>\n",
       "<tr>\n",
       "  <th>Personal status and sex_A91</th>                         <td>    0.2064</td> <td>    0.579</td> <td>    0.357</td> <td> 0.721</td> <td>   -0.928</td> <td>    1.341</td>\n",
       "</tr>\n",
       "<tr>\n",
       "  <th>Personal status and sex_A92</th>                         <td>   -0.0406</td> <td>    0.372</td> <td>   -0.109</td> <td> 0.913</td> <td>   -0.770</td> <td>    0.689</td>\n",
       "</tr>\n",
       "<tr>\n",
       "  <th>Personal status and sex_A93</th>                         <td>   -0.4229</td> <td>    0.375</td> <td>   -1.129</td> <td> 0.259</td> <td>   -1.157</td> <td>    0.312</td>\n",
       "</tr>\n",
       "<tr>\n",
       "  <th>foreign worker_A201</th>                                 <td>    1.3489</td> <td>    0.750</td> <td>    1.799</td> <td> 0.072</td> <td>   -0.120</td> <td>    2.818</td>\n",
       "</tr>\n",
       "<tr>\n",
       "  <th>Other debtors / guarantors_A101</th>                     <td>    0.7227</td> <td>    0.473</td> <td>    1.527</td> <td> 0.127</td> <td>   -0.205</td> <td>    1.651</td>\n",
       "</tr>\n",
       "<tr>\n",
       "  <th>Other debtors / guarantors_A102</th>                     <td>    0.7399</td> <td>    0.658</td> <td>    1.125</td> <td> 0.261</td> <td>   -0.549</td> <td>    2.029</td>\n",
       "</tr>\n",
       "<tr>\n",
       "  <th>Installment rate in percentage of disposable income</th> <td>    0.3327</td> <td>    0.103</td> <td>    3.227</td> <td> 0.001</td> <td>    0.131</td> <td>    0.535</td>\n",
       "</tr>\n",
       "</table>"
      ],
      "text/plain": [
       "<class 'statsmodels.iolib.summary.Summary'>\n",
       "\"\"\"\n",
       "                           Logit Regression Results                           \n",
       "==============================================================================\n",
       "Dep. Variable:                      y   No. Observations:                  700\n",
       "Model:                          Logit   Df Residuals:                      659\n",
       "Method:                           MLE   Df Model:                           40\n",
       "Date:                Sun, 28 Oct 2018   Pseudo R-squ.:                  0.2517\n",
       "Time:                        20:34:04   Log-Likelihood:                -319.34\n",
       "converged:                       True   LL-Null:                       -426.75\n",
       "                                        LLR p-value:                 8.692e-26\n",
       "=======================================================================================================================\n",
       "                                                          coef    std err          z      P>|z|      [0.025      0.975]\n",
       "-----------------------------------------------------------------------------------------------------------------------\n",
       "const                                                  -4.9425      1.363     -3.626      0.000      -7.614      -2.271\n",
       "Status of existing checking account _A11                1.5357      0.274      5.610      0.000       0.999       2.072\n",
       "Status of existing checking account _A12                1.2079      0.269      4.484      0.000       0.680       1.736\n",
       "Status of existing checking account _A13                0.5013      0.466      1.076      0.282      -0.412       1.414\n",
       "Credit history_A30                                      1.4103      0.482      2.924      0.003       0.465       2.356\n",
       "Credit history_A31                                      1.2993      0.489      2.657      0.008       0.341       2.258\n",
       "Credit history_A32                                      0.7912      0.261      3.029      0.002       0.279       1.303\n",
       "Credit history_A33                                      0.3285      0.399      0.824      0.410      -0.453       1.110\n",
       "Duration in month                                       0.0195      0.011      1.804      0.071      -0.002       0.041\n",
       "Savings account/bonds_A61                               0.6861      0.297      2.308      0.021       0.103       1.269\n",
       "Savings account/bonds_A62                               0.3948      0.402      0.982      0.326      -0.393       1.183\n",
       "Savings account/bonds_A63                              -0.0576      0.529     -0.109      0.913      -1.094       0.979\n",
       "Savings account/bonds_A64                              -0.3687      0.645     -0.572      0.568      -1.633       0.896\n",
       "Purpose_A40                                             0.5893      0.340      1.736      0.083      -0.076       1.255\n",
       "Purpose_A41                                            -1.0600      0.476     -2.226      0.026      -1.993      -0.127\n",
       "Purpose_A410                                           -0.4168      0.828     -0.503      0.615      -2.040       1.207\n",
       "Purpose_A42                                            -0.5140      0.372     -1.382      0.167      -1.243       0.215\n",
       "Purpose_A43                                            -0.4478      0.346     -1.295      0.195      -1.125       0.230\n",
       "Purpose_A46                                             0.6916      0.545      1.268      0.205      -0.377       1.761\n",
       "Purpose_A48                                            -1.5146      1.244     -1.218      0.223      -3.952       0.923\n",
       "Credit amount                                           0.0001   4.78e-05      2.340      0.019    1.82e-05       0.000\n",
       "Property_A121                                          -0.7150      0.508     -1.408      0.159      -1.710       0.280\n",
       "Property_A122                                          -0.3146      0.505     -0.623      0.534      -1.305       0.676\n",
       "Property_A123                                          -0.4718      0.482     -0.978      0.328      -1.417       0.474\n",
       "Age in years                                           -0.0289      0.011     -2.565      0.010      -0.051      -0.007\n",
       "Present employment since_A71                            0.1230      0.434      0.283      0.777      -0.728       0.974\n",
       "Present employment since_A72                            0.2404      0.345      0.698      0.485      -0.435       0.916\n",
       "Present employment since_A73                            0.1541      0.296      0.520      0.603      -0.426       0.735\n",
       "Present employment since_A74                           -0.1587      0.348     -0.457      0.648      -0.840       0.523\n",
       "Housing_A151                                            0.2389      0.576      0.415      0.678      -0.890       1.367\n",
       "Housing_A152                                           -0.1934      0.539     -0.359      0.720      -1.249       0.863\n",
       "Other installment plans_A141                            0.5697      0.285      2.002      0.045       0.012       1.128\n",
       "Other installment plans_A142                            0.4708      0.493      0.954      0.340      -0.496       1.438\n",
       "index                                               -6.728e-05      0.000     -0.191      0.848      -0.001       0.001\n",
       "Personal status and sex_A91                             0.2064      0.579      0.357      0.721      -0.928       1.341\n",
       "Personal status and sex_A92                            -0.0406      0.372     -0.109      0.913      -0.770       0.689\n",
       "Personal status and sex_A93                            -0.4229      0.375     -1.129      0.259      -1.157       0.312\n",
       "foreign worker_A201                                     1.3489      0.750      1.799      0.072      -0.120       2.818\n",
       "Other debtors / guarantors_A101                         0.7227      0.473      1.527      0.127      -0.205       1.651\n",
       "Other debtors / guarantors_A102                         0.7399      0.658      1.125      0.261      -0.549       2.029\n",
       "Installment rate in percentage of disposable income     0.3327      0.103      3.227      0.001       0.131       0.535\n",
       "=======================================================================================================================\n",
       "\"\"\""
      ]
     },
     "execution_count": 106,
     "metadata": {},
     "output_type": "execute_result"
    }
   ],
   "source": [
    "logistic_model.summary()"
   ]
  },
  {
   "cell_type": "markdown",
   "metadata": {},
   "source": [
    "#### AUC"
   ]
  },
  {
   "cell_type": "markdown",
   "metadata": {},
   "source": [
    "- TPR = True Positive Ratio (RECALL)\n",
    "- FPR = False Positive Ratio ($\\frac{FP}{FP + TN}$)"
   ]
  },
  {
   "cell_type": "code",
   "execution_count": 109,
   "metadata": {},
   "outputs": [],
   "source": [
    "import matplotlib.pyplot as plt\n",
    "from sklearn import metrics\n",
    "from sklearn.metrics import auc\n",
    "fpr, tpr, thresholds = metrics.roc_curve(pred_n_class['class'], pred_n_class['probs'], pos_label=1)"
   ]
  },
  {
   "cell_type": "code",
   "execution_count": 118,
   "metadata": {},
   "outputs": [
    {
     "data": {
      "image/png": "[encoded data removed]",
      "text/plain": [
       "<Figure size 432x288 with 1 Axes>"
      ]
     },
     "metadata": {},
     "output_type": "display_data"
    }
   ],
   "source": [
    "roc_auc = auc(fpr, tpr)\n",
    "plt.figure()\n",
    "lw = 2\n",
    "plt.plot(fpr, tpr, color='darkorange', lw=lw, label='ROC curve (area=%0.2f)' %roc_auc)\n",
    "plt.plot([0, 1], [0, 1], color='navy', lw=lw, linestyle='--')\n",
    "plt.xlim([0.0, 1.0])\n",
    "plt.ylim([0.0, 1.05])\n",
    "plt.xlabel('FPR')\n",
    "plt.ylabel('TPR')\n",
    "plt.title('ROC Curve - German Credit Data')\n",
    "plt.legend(loc='lower right')\n",
    "plt.show()"
   ]
  },
  {
   "cell_type": "code",
   "execution_count": 119,
   "metadata": {},
   "outputs": [
    {
     "data": {
      "text/plain": [
       "0.8261433067950379"
      ]
     },
     "execution_count": 119,
     "metadata": {},
     "output_type": "execute_result"
    }
   ],
   "source": [
    "roc_auc"
   ]
  },
  {
   "cell_type": "markdown",
   "metadata": {},
   "source": [
    "#### ROC_AUC 와 C-statistic 의 관계? 알아보자"
   ]
  },
  {
   "cell_type": "code",
   "execution_count": 121,
   "metadata": {},
   "outputs": [
    {
     "name": "stdout",
     "output_type": "stream",
     "text": [
      "Thresholds 0.0 Train accuracy: 0.2986\n",
      "Thresholds 0.1 Train accuracy: 0.5457\n",
      "Thresholds 0.2 Train accuracy: 0.6857\n",
      "Thresholds 0.30000000000000004 Train accuracy: 0.7571\n",
      "Thresholds 0.4 Train accuracy: 0.7714\n",
      "Thresholds 0.5 Train accuracy: 0.7814\n",
      "Thresholds 0.6000000000000001 Train accuracy: 0.7729\n",
      "Thresholds 0.7000000000000001 Train accuracy: 0.7557\n",
      "Thresholds 0.8 Train accuracy: 0.7343\n",
      "Thresholds 0.9 Train accuracy: 0.7057\n"
     ]
    }
   ],
   "source": [
    "for i in list(np.arange(0, 1, 0.1)):\n",
    "    pred_n_class['y_pred'] = 0\n",
    "    pred_n_class.loc[pred_n_class['probs'] > i, 'y_pred'] = 1\n",
    "    print(\"Thresholds\", i, \"Train accuracy:\", round(metrics.accuracy_score(pred_n_class['class'], pred_n_class['y_pred']), 4))"
   ]
  },
  {
   "cell_type": "markdown",
   "metadata": {},
   "source": [
    "#### Train set acc 검증"
   ]
  },
  {
   "cell_type": "code",
   "execution_count": 127,
   "metadata": {},
   "outputs": [
    {
     "name": "stdout",
     "output_type": "stream",
     "text": [
      "\n",
      "Train Confusion Matrix\n",
      "\n",
      " Actual     0    1\n",
      "Predict          \n",
      "0        439  101\n",
      "1         52  108\n",
      "\n",
      "Train Accuracy:  0.7814\n"
     ]
    }
   ],
   "source": [
    "pred_n_class['y_pred'] = 0\n",
    "pred_n_class.loc[pred_n_class['probs'] > 0.5, 'y_pred'] = 1\n",
    "print('\\nTrain Confusion Matrix\\n\\n', \n",
    "      pd.crosstab(\n",
    "          pred_n_class['y_pred'],\n",
    "          pred_n_class['class'],\n",
    "          rownames=['Predict'],\n",
    "          colnames=['Actual'])\n",
    "     )\n",
    "print('\\nTrain Accuracy: ', round(metrics.accuracy_score(pred_n_class['class'], pred_n_class['y_pred']), 4))"
   ]
  },
  {
   "cell_type": "markdown",
   "metadata": {},
   "source": [
    "#### Test set acc 검증"
   ]
  },
  {
   "cell_type": "code",
   "execution_count": 136,
   "metadata": {},
   "outputs": [],
   "source": [
    "pred_n_class_test = pd.DataFrame({'class': test_y, 'probs': logistic_model.predict(sm.add_constant(test_x))})"
   ]
  },
  {
   "cell_type": "code",
   "execution_count": 137,
   "metadata": {},
   "outputs": [],
   "source": [
    "pred_n_class_test['y_pred'] = 0\n",
    "pred_n_class_test.loc[pred_n_class_test['probs'] > 0.5, 'y_pred'] = 1"
   ]
  },
  {
   "cell_type": "code",
   "execution_count": 138,
   "metadata": {},
   "outputs": [
    {
     "name": "stdout",
     "output_type": "stream",
     "text": [
      "\n",
      "Test Confusion Matrix\n",
      "\n",
      " Actual     0   1\n",
      "Predict         \n",
      "0        188  46\n",
      "1         21  45\n",
      "\n",
      "Test Accuracy:  0.7767\n"
     ]
    }
   ],
   "source": [
    "print('\\nTest Confusion Matrix\\n\\n', \n",
    "      pd.crosstab(\n",
    "          pred_n_class_test['y_pred'],\n",
    "          pred_n_class_test['class'],\n",
    "          rownames=['Predict'],\n",
    "          colnames=['Actual'])\n",
    "     )\n",
    "print('\\nTest Accuracy: ', round(metrics.accuracy_score(pred_n_class_test['class'], pred_n_class_test['y_pred']), 4))"
   ]
  },
  {
   "cell_type": "code",
   "execution_count": null,
   "metadata": {},
   "outputs": [],
   "source": []
  }
 ],
 "metadata": {
  "kernelspec": {
   "display_name": "Python 3",
   "language": "python",
   "name": "python3"
  },
  "language_info": {
   "codemirror_mode": {
    "name": "ipython",
    "version": 3
   },
   "file_extension": ".py",
   "mimetype": "text/x-python",
   "name": "python",
   "nbconvert_exporter": "python",
   "pygments_lexer": "ipython3",
   "version": "3.6.3"
  }
 },
 "nbformat": 4,
 "nbformat_minor": 2
}
